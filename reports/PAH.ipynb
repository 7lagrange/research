{
 "cells": [
  {
   "cell_type": "markdown",
   "metadata": {
    "toc": "true"
   },
   "source": [
    "# Table of Contents\n",
    " <p><div class=\"lev1\"><a href=\"#PAH-burden-analysis-summary\">PAH burden analysis summary</a></div>"
   ]
  },
  {
   "cell_type": "markdown",
   "metadata": {},
   "source": [
    "# PAH burden analysis summary\n",
    "\n",
    "   - Cases: There are 227 samples, contains 55 trios, 2 trios have low relativeness(JM0015 and JM0018)  \n",
    "\n",
    "   - ontrols: 1911 unaffected silbing from Iossifov 2014  "
   ]
  },
  {
   "cell_type": "code",
   "execution_count": 1,
   "metadata": {
    "collapsed": true
   },
   "outputs": [],
   "source": [
    "import pandas as pd\n",
    "import numpy as np\n",
    "from IPython.display import display, HTML\n",
    "from pretty_table import *"
   ]
  },
  {
   "cell_type": "code",
   "execution_count": 17,
   "metadata": {
    "collapsed": false
   },
   "outputs": [
    {
     "data": {
      "text/html": [
       "<table style=\"\"><tr style=\"\"><td style=\"\">f</td><td style=\"\">x</td><td style=\"\">y</td><td style=\"\">z</td></tr><tr style=\"\"><td style=\"\">0.023432</td><td style=\"\">1</td><td style=\"\">6</td><td style=\"\">testing</td></tr><tr style=\"\"><td style=\"\">0.234321</td><td style=\"\">2</td><td style=\"\">4</td><td style=\"\">pretty</td></tr><tr style=\"\"><td style=\"\">0.5555</td><td style=\"\">3</td><td style=\"\">3</td><td style=\"\">tables</td></tr></table>"
      ],
      "text/plain": [
       "<pretty_table.PrettyTable at 0x1113f2790>"
      ]
     },
     "execution_count": 17,
     "metadata": {},
     "output_type": "execute_result"
    }
   ],
   "source": [
    "df = pd.DataFrame({\"x\":[1,2,3], \"y\":[6,4,3], \"z\":[\"testing\",\"pretty\",\"tables\"], \"f\":[0.023432, 0.234321,0.5555]})\n",
    "pt = PrettyTable(df)\n",
    "pt\n"
   ]
  },
  {
   "cell_type": "code",
   "execution_count": 3,
   "metadata": {
    "collapsed": false
   },
   "outputs": [
    {
     "data": {
      "text/html": [
       "<center><table style=\"color: black;border: 1px solid black;\"><tr style=\"color: black;border: 1px solid black;\"><td style=\"color: black;font-weight: bold;background-color: lightgray;\">f</td><td style=\"color: black;font-weight: bold;background-color: lightgray;\">x</td><td style=\"color: black;font-weight: bold;background-color: lightgray;\">y</td><td style=\"color: black;font-weight: bold;background-color: lightgray;\">z</td></tr><tr style=\"color: black;border: 1px solid black;\"><td style=\"color: black;border: 1px solid black;\">0.023432</td><td style=\"color: black;border: 1px solid black;\">1</td><td style=\"color: black;border: 1px solid black;\">6</td><td style=\"color: black;border: 1px solid black;\">testing</td></tr><tr style=\"color: black;border: 1px solid black;\"><td style=\"color: black;border: 1px solid black;\">0.234321</td><td style=\"color: black;border: 1px solid black;\">2</td><td style=\"color: black;border: 1px solid black;\">4</td><td style=\"color: black;border: 1px solid black;\">pretty</td></tr><tr style=\"color: black;border: 1px solid black;\"><td style=\"color: black;border: 1px solid black;\">0.5555</td><td style=\"color: black;border: 1px solid black;\">3</td><td style=\"color: black;border: 1px solid black;\">3</td><td style=\"color: black;border: 1px solid black;\">tables</td></tr></table></center>"
      ],
      "text/plain": [
       "<pretty_table.PrettyTable at 0x1113f2950>"
      ]
     },
     "execution_count": 3,
     "metadata": {},
     "output_type": "execute_result"
    }
   ],
   "source": [
    "pt = PrettyTable(df, tstyle=TableStyle(theme=\"theme1\"), center=True)\n",
    "pt"
   ]
  },
  {
   "cell_type": "code",
   "execution_count": 4,
   "metadata": {
    "collapsed": true
   },
   "outputs": [],
   "source": [
    "#https://github.com/HHammond/PrettyPandas\n",
    "#http://melissagymrek.com/python/2014/01/12/ipython-tables.html\n",
    "#http://nbviewer.jupyter.org/gist/chris1610/f2f4a2e9181f6ec22e88\n",
    "#http://nbviewer.jupyter.org/github/pydata/pandas/blob/master/doc/source/html-styling.ipynb\n",
    "pd.set_option('float_format', '{:.2f}'.format)"
   ]
  },
  {
   "cell_type": "code",
   "execution_count": null,
   "metadata": {
    "collapsed": true
   },
   "outputs": [],
   "source": []
  },
  {
   "cell_type": "code",
   "execution_count": 21,
   "metadata": {
    "collapsed": true
   },
   "outputs": [],
   "source": [
    "CSS = \"\"\"\n",
    "body {\n",
    "    margin: auto;\n",
    "    font-family: Helvetica;\n",
    "}\n",
    "table.dataframe {\n",
    "    margin: auto;\n",
    "    border-collapse: collapse;\n",
    "    border: none;\n",
    "    font-size:200%;\n",
    "}\n",
    "table.dataframe tr {\n",
    "    border: none;\n",
    "}\n",
    "table.dataframe td, table.dataframe th {\n",
    "    margin: auto;\n",
    "    border: 1px solid white;\n",
    "    padding-left: 0.25em;\n",
    "    padding-top: 0.25em;\n",
    "    padding-bottom: 0.25em;\n",
    "    padding-right: 0.25em;\n",
    "}\n",
    "table.dataframe th:not(:empty) {\n",
    "    background-color: #fec;\n",
    "    text-align: center;\n",
    "    font-weight: normal;\n",
    "}\n",
    "table.dataframe tr:nth-child(2) th:empty {\n",
    "    border-left: none;\n",
    "    border-right: 1px dashed #888;\n",
    "}\n",
    "table.dataframe td {\n",
    "    border: 1px solid #ccf;\n",
    "    background-color: #f4f4ff;\n",
    "    text-align: center;\n",
    "}\n",
    "div.output_area pre {\n",
    "font-family: Helvetica;\n",
    "font-size: 100%;\n",
    "}\n",
    "\"\"\"\n",
    "#CSS ='<center>{0}</center>'.format(CSS)"
   ]
  },
  {
   "cell_type": "code",
   "execution_count": 22,
   "metadata": {
    "collapsed": false
   },
   "outputs": [
    {
     "data": {
      "text/html": [
       "<style>\n",
       "body {\n",
       "    margin: auto;\n",
       "    font-family: Helvetica;\n",
       "}\n",
       "table.dataframe {\n",
       "    margin: auto;\n",
       "    border-collapse: collapse;\n",
       "    border: none;\n",
       "    font-size:200%;\n",
       "}\n",
       "table.dataframe tr {\n",
       "    border: none;\n",
       "}\n",
       "table.dataframe td, table.dataframe th {\n",
       "    margin: auto;\n",
       "    border: 1px solid white;\n",
       "    padding-left: 0.25em;\n",
       "    padding-top: 0.25em;\n",
       "    padding-bottom: 0.25em;\n",
       "    padding-right: 0.25em;\n",
       "}\n",
       "table.dataframe th:not(:empty) {\n",
       "    background-color: #fec;\n",
       "    text-align: center;\n",
       "    font-weight: normal;\n",
       "}\n",
       "table.dataframe tr:nth-child(2) th:empty {\n",
       "    border-left: none;\n",
       "    border-right: 1px dashed #888;\n",
       "}\n",
       "table.dataframe td {\n",
       "    border: 1px solid #ccf;\n",
       "    background-color: #f4f4ff;\n",
       "    text-align: center;\n",
       "}\n",
       "div.output_area pre {\n",
       "font-family: Helvetica;\n",
       "font-size: 100%;\n",
       "}\n",
       "</style>"
      ],
      "text/plain": [
       "<IPython.core.display.HTML object>"
      ]
     },
     "execution_count": 22,
     "metadata": {},
     "output_type": "execute_result"
    }
   ],
   "source": [
    "from IPython.core.display import HTML\n",
    "HTML('<style>{}</style>'.format(CSS))"
   ]
  },
  {
   "cell_type": "code",
   "execution_count": 7,
   "metadata": {
    "collapsed": false
   },
   "outputs": [],
   "source": [
    "# all genes"
   ]
  },
  {
   "cell_type": "markdown",
   "metadata": {},
   "source": []
  },
  {
   "cell_type": "code",
   "execution_count": 10,
   "metadata": {
    "collapsed": false
   },
   "outputs": [
    {
     "name": "stdout",
     "output_type": "stream",
     "text": [
      "             gggggg\n"
     ]
    },
    {
     "data": {
      "text/html": [
       "<div>\n",
       "<table border=\"1\" class=\"dataframe\">\n",
       "  <thead>\n",
       "    <tr style=\"text-align: right;\">\n",
       "      <th></th>\n",
       "      <th>lib</th>\n",
       "      <th>qty1</th>\n",
       "      <th>qty2</th>\n",
       "      <th>qty2</th>\n",
       "      <th>qty2</th>\n",
       "      <th>qty2</th>\n",
       "    </tr>\n",
       "  </thead>\n",
       "  <tbody>\n",
       "    <tr>\n",
       "      <th>aaa</th>\n",
       "      <td>2</td>\n",
       "      <td>1</td>\n",
       "      <td>4</td>\n",
       "      <td>4</td>\n",
       "      <td>0</td>\n",
       "      <td>2</td>\n",
       "    </tr>\n",
       "    <tr>\n",
       "      <th>bbb</th>\n",
       "      <td>2</td>\n",
       "      <td>2</td>\n",
       "      <td>1</td>\n",
       "      <td>0</td>\n",
       "      <td>2</td>\n",
       "      <td>0</td>\n",
       "    </tr>\n",
       "  </tbody>\n",
       "</table>\n",
       "</div>"
      ],
      "text/plain": [
       "     lib  qty1  qty2  qty2  qty2  qty2\n",
       "aaa    2     1     4     4     0     2\n",
       "bbb    2     2     1     0     2     0"
      ]
     },
     "metadata": {},
     "output_type": "display_data"
    },
    {
     "ename": "ValueError",
     "evalue": "style is not supported for non-unique indicies.",
     "output_type": "error",
     "traceback": [
      "\u001b[0;31m---------------------------------------------------------------------------\u001b[0m",
      "\u001b[0;31mValueError\u001b[0m                                Traceback (most recent call last)",
      "\u001b[0;32m<ipython-input-10-26faeeadb568>\u001b[0m in \u001b[0;36m<module>\u001b[0;34m()\u001b[0m\n\u001b[1;32m      5\u001b[0m \u001b[0;32mprint\u001b[0m \u001b[0;34m'             gggggg'\u001b[0m\u001b[0;34m\u001b[0m\u001b[0m\n\u001b[1;32m      6\u001b[0m \u001b[0mdisplay\u001b[0m\u001b[0;34m(\u001b[0m\u001b[0mdf\u001b[0m\u001b[0;34m)\u001b[0m\u001b[0;34m\u001b[0m\u001b[0m\n\u001b[0;32m----> 7\u001b[0;31m \u001b[0mdf\u001b[0m\u001b[0;34m.\u001b[0m\u001b[0mstyle\u001b[0m\u001b[0;34m.\u001b[0m\u001b[0mrender\u001b[0m\u001b[0;34m(\u001b[0m\u001b[0;34m)\u001b[0m\u001b[0;34m.\u001b[0m\u001b[0msplit\u001b[0m\u001b[0;34m(\u001b[0m\u001b[0;34m'\\n'\u001b[0m\u001b[0;34m)\u001b[0m\u001b[0;34m[\u001b[0m\u001b[0;34m:\u001b[0m\u001b[0;36m10\u001b[0m\u001b[0;34m]\u001b[0m\u001b[0;34m\u001b[0m\u001b[0m\n\u001b[0m",
      "\u001b[0;32m/Users/hongjian/anaconda/lib/python2.7/site-packages/pandas/core/frame.pyc\u001b[0m in \u001b[0;36mstyle\u001b[0;34m(self)\u001b[0m\n\u001b[1;32m    588\u001b[0m         \"\"\"\n\u001b[1;32m    589\u001b[0m         \u001b[0;32mfrom\u001b[0m \u001b[0mpandas\u001b[0m\u001b[0;34m.\u001b[0m\u001b[0mcore\u001b[0m\u001b[0;34m.\u001b[0m\u001b[0mstyle\u001b[0m \u001b[0;32mimport\u001b[0m \u001b[0mStyler\u001b[0m\u001b[0;34m\u001b[0m\u001b[0m\n\u001b[0;32m--> 590\u001b[0;31m         \u001b[0;32mreturn\u001b[0m \u001b[0mStyler\u001b[0m\u001b[0;34m(\u001b[0m\u001b[0mself\u001b[0m\u001b[0;34m)\u001b[0m\u001b[0;34m\u001b[0m\u001b[0m\n\u001b[0m\u001b[1;32m    591\u001b[0m \u001b[0;34m\u001b[0m\u001b[0m\n\u001b[1;32m    592\u001b[0m     \u001b[0;32mdef\u001b[0m \u001b[0miteritems\u001b[0m\u001b[0;34m(\u001b[0m\u001b[0mself\u001b[0m\u001b[0;34m)\u001b[0m\u001b[0;34m:\u001b[0m\u001b[0;34m\u001b[0m\u001b[0m\n",
      "\u001b[0;32m/Users/hongjian/anaconda/lib/python2.7/site-packages/pandas/core/style.pyc\u001b[0m in \u001b[0;36m__init__\u001b[0;34m(self, data, precision, table_styles, uuid, caption, table_attributes)\u001b[0m\n\u001b[1;32m    140\u001b[0m             \u001b[0mdata\u001b[0m \u001b[0;34m=\u001b[0m \u001b[0mdata\u001b[0m\u001b[0;34m.\u001b[0m\u001b[0mto_frame\u001b[0m\u001b[0;34m(\u001b[0m\u001b[0;34m)\u001b[0m\u001b[0;34m\u001b[0m\u001b[0m\n\u001b[1;32m    141\u001b[0m         \u001b[0;32mif\u001b[0m \u001b[0;32mnot\u001b[0m \u001b[0mdata\u001b[0m\u001b[0;34m.\u001b[0m\u001b[0mindex\u001b[0m\u001b[0;34m.\u001b[0m\u001b[0mis_unique\u001b[0m \u001b[0;32mor\u001b[0m \u001b[0;32mnot\u001b[0m \u001b[0mdata\u001b[0m\u001b[0;34m.\u001b[0m\u001b[0mcolumns\u001b[0m\u001b[0;34m.\u001b[0m\u001b[0mis_unique\u001b[0m\u001b[0;34m:\u001b[0m\u001b[0;34m\u001b[0m\u001b[0m\n\u001b[0;32m--> 142\u001b[0;31m             \u001b[0;32mraise\u001b[0m \u001b[0mValueError\u001b[0m\u001b[0;34m(\u001b[0m\u001b[0;34m\"style is not supported for non-unique indicies.\"\u001b[0m\u001b[0;34m)\u001b[0m\u001b[0;34m\u001b[0m\u001b[0m\n\u001b[0m\u001b[1;32m    143\u001b[0m \u001b[0;34m\u001b[0m\u001b[0m\n\u001b[1;32m    144\u001b[0m         \u001b[0mself\u001b[0m\u001b[0;34m.\u001b[0m\u001b[0mdata\u001b[0m \u001b[0;34m=\u001b[0m \u001b[0mdata\u001b[0m\u001b[0;34m\u001b[0m\u001b[0m\n",
      "\u001b[0;31mValueError\u001b[0m: style is not supported for non-unique indicies."
     ]
    }
   ],
   "source": [
    "pd.set_option('display.width', 250)\n",
    "pd.set_option('display.precision', 3)\n",
    "df = pd.DataFrame(np.random.randint(5, size=(2, 6)), index=('aaa','bbb'),\n",
    "                  columns=('lib', 'qty1', 'qty2','qty2','qty2','qty2'))\n",
    "print '             gggggg'\n",
    "display(df)\n",
    "df.style.render().split('\\n')[:10]"
   ]
  },
  {
   "cell_type": "code",
   "execution_count": null,
   "metadata": {
    "collapsed": false
   },
   "outputs": [],
   "source": [
    "pt = PrettyTable(df, tstyle=TableStyle(theme=\"theme1\"), center=True)\n",
    "pt"
   ]
  },
  {
   "cell_type": "code",
   "execution_count": 11,
   "metadata": {
    "collapsed": true
   },
   "outputs": [],
   "source": [
    "import numpy as np\n",
    "\n",
    "np.random.seed(24)\n",
    "df = pd.DataFrame({'A': np.linspace(1, 10, 10)})\n",
    "df = pd.concat([df, pd.DataFrame(np.random.randn(10, 4), columns=list('BCDE'))],\n",
    "               axis=1)\n",
    "df.iloc[0, 2] = np.nan"
   ]
  },
  {
   "cell_type": "code",
   "execution_count": 14,
   "metadata": {
    "collapsed": false
   },
   "outputs": [
    {
     "data": {
      "text/html": [
       "<div>\n",
       "<table border=\"1\" class=\"dataframe\">\n",
       "  <thead>\n",
       "    <tr style=\"text-align: right;\">\n",
       "      <th></th>\n",
       "      <th>A</th>\n",
       "      <th>B</th>\n",
       "      <th>C</th>\n",
       "      <th>D</th>\n",
       "      <th>E</th>\n",
       "    </tr>\n",
       "  </thead>\n",
       "  <tbody>\n",
       "    <tr>\n",
       "      <th>0</th>\n",
       "      <td>1.00</td>\n",
       "      <td>1.33</td>\n",
       "      <td>nan</td>\n",
       "      <td>-0.32</td>\n",
       "      <td>-0.99</td>\n",
       "    </tr>\n",
       "    <tr>\n",
       "      <th>1</th>\n",
       "      <td>2.00</td>\n",
       "      <td>-1.07</td>\n",
       "      <td>-1.44</td>\n",
       "      <td>0.56</td>\n",
       "      <td>0.30</td>\n",
       "    </tr>\n",
       "    <tr>\n",
       "      <th>2</th>\n",
       "      <td>3.00</td>\n",
       "      <td>-1.63</td>\n",
       "      <td>0.22</td>\n",
       "      <td>0.68</td>\n",
       "      <td>1.89</td>\n",
       "    </tr>\n",
       "    <tr>\n",
       "      <th>3</th>\n",
       "      <td>4.00</td>\n",
       "      <td>0.96</td>\n",
       "      <td>0.10</td>\n",
       "      <td>-0.48</td>\n",
       "      <td>0.85</td>\n",
       "    </tr>\n",
       "    <tr>\n",
       "      <th>4</th>\n",
       "      <td>5.00</td>\n",
       "      <td>1.45</td>\n",
       "      <td>1.06</td>\n",
       "      <td>0.17</td>\n",
       "      <td>0.52</td>\n",
       "    </tr>\n",
       "    <tr>\n",
       "      <th>5</th>\n",
       "      <td>6.00</td>\n",
       "      <td>-1.34</td>\n",
       "      <td>0.56</td>\n",
       "      <td>1.39</td>\n",
       "      <td>-0.06</td>\n",
       "    </tr>\n",
       "    <tr>\n",
       "      <th>6</th>\n",
       "      <td>7.00</td>\n",
       "      <td>0.12</td>\n",
       "      <td>1.21</td>\n",
       "      <td>-0.00</td>\n",
       "      <td>1.63</td>\n",
       "    </tr>\n",
       "    <tr>\n",
       "      <th>7</th>\n",
       "      <td>8.00</td>\n",
       "      <td>0.35</td>\n",
       "      <td>1.04</td>\n",
       "      <td>-0.39</td>\n",
       "      <td>0.52</td>\n",
       "    </tr>\n",
       "    <tr>\n",
       "      <th>8</th>\n",
       "      <td>9.00</td>\n",
       "      <td>1.69</td>\n",
       "      <td>-1.33</td>\n",
       "      <td>1.43</td>\n",
       "      <td>-2.09</td>\n",
       "    </tr>\n",
       "    <tr>\n",
       "      <th>9</th>\n",
       "      <td>10.00</td>\n",
       "      <td>-0.13</td>\n",
       "      <td>0.63</td>\n",
       "      <td>-0.59</td>\n",
       "      <td>0.29</td>\n",
       "    </tr>\n",
       "  </tbody>\n",
       "</table>\n",
       "</div>"
      ],
      "text/plain": [
       "      A     B     C     D     E\n",
       "0  1.00  1.33   nan -0.32 -0.99\n",
       "1  2.00 -1.07 -1.44  0.56  0.30\n",
       "2  3.00 -1.63  0.22  0.68  1.89\n",
       "3  4.00  0.96  0.10 -0.48  0.85\n",
       "4  5.00  1.45  1.06  0.17  0.52\n",
       "5  6.00 -1.34  0.56  1.39 -0.06\n",
       "6  7.00  0.12  1.21 -0.00  1.63\n",
       "7  8.00  0.35  1.04 -0.39  0.52\n",
       "8  9.00  1.69 -1.33  1.43 -2.09\n",
       "9 10.00 -0.13  0.63 -0.59  0.29"
      ]
     },
     "metadata": {},
     "output_type": "display_data"
    }
   ],
   "source": [
    "display(df)"
   ]
  },
  {
   "cell_type": "code",
   "execution_count": 20,
   "metadata": {
    "collapsed": false
   },
   "outputs": [
    {
     "data": {
      "text/plain": [
       "[u'',\n",
       " u'        <style  type=\"text/css\" >',\n",
       " u'        ',\n",
       " u'        ',\n",
       " u'        </style>',\n",
       " u'',\n",
       " u'        <table id=\"T_c689c7f0_fc4a_11e5_a8f9_a820662389fb\" None>',\n",
       " u'        ',\n",
       " u'',\n",
       " u'        <thead>',\n",
       " u'            ',\n",
       " u'            <tr>',\n",
       " u'                ',\n",
       " u'                <th class=\"blank\">',\n",
       " u'                ',\n",
       " u'                <th class=\"col_heading level0 col0\">f',\n",
       " u'                ',\n",
       " u'                <th class=\"col_heading level0 col1\">x',\n",
       " u'                ',\n",
       " u'                <th class=\"col_heading level0 col2\">y',\n",
       " u'                ',\n",
       " u'                <th class=\"col_heading level0 col3\">z',\n",
       " u'                ',\n",
       " u'            </tr>',\n",
       " u'            ',\n",
       " u'        </thead>',\n",
       " u'        <tbody>',\n",
       " u'            ',\n",
       " u'            <tr>',\n",
       " u'                ',\n",
       " u'                <th id=\"T_c689c7f0_fc4a_11e5_a8f9_a820662389fb\" class=\"row_heading level3 row0\">',\n",
       " u'                    ',\n",
       " u'                        0.0',\n",
       " u'                    ',\n",
       " u'                ',\n",
       " u'                <td id=\"T_c689c7f0_fc4a_11e5_a8f9_a820662389fbrow0_col0\" class=\"data row0 col0\">',\n",
       " u'                    ',\n",
       " u'                        0.023',\n",
       " u'                    ',\n",
       " u'                ',\n",
       " u'                <td id=\"T_c689c7f0_fc4a_11e5_a8f9_a820662389fbrow0_col1\" class=\"data row0 col1\">',\n",
       " u'                    ',\n",
       " u'                        1.0',\n",
       " u'                    ',\n",
       " u'                ',\n",
       " u'                <td id=\"T_c689c7f0_fc4a_11e5_a8f9_a820662389fbrow0_col2\" class=\"data row0 col2\">',\n",
       " u'                    ',\n",
       " u'                        6.0',\n",
       " u'                    ',\n",
       " u'                ',\n",
       " u'                <td id=\"T_c689c7f0_fc4a_11e5_a8f9_a820662389fbrow0_col3\" class=\"data row0 col3\">',\n",
       " u'                    ',\n",
       " u'                        testing',\n",
       " u'                    ',\n",
       " u'                ',\n",
       " u'            </tr>',\n",
       " u'            ',\n",
       " u'            <tr>',\n",
       " u'                ',\n",
       " u'                <th id=\"T_c689c7f0_fc4a_11e5_a8f9_a820662389fb\" class=\"row_heading level3 row1\">',\n",
       " u'                    ',\n",
       " u'                        1.0',\n",
       " u'                    ',\n",
       " u'                ',\n",
       " u'                <td id=\"T_c689c7f0_fc4a_11e5_a8f9_a820662389fbrow1_col0\" class=\"data row1 col0\">',\n",
       " u'                    ',\n",
       " u'                        0.234',\n",
       " u'                    ',\n",
       " u'                ',\n",
       " u'                <td id=\"T_c689c7f0_fc4a_11e5_a8f9_a820662389fbrow1_col1\" class=\"data row1 col1\">',\n",
       " u'                    ',\n",
       " u'                        2.0',\n",
       " u'                    ',\n",
       " u'                ',\n",
       " u'                <td id=\"T_c689c7f0_fc4a_11e5_a8f9_a820662389fbrow1_col2\" class=\"data row1 col2\">',\n",
       " u'                    ',\n",
       " u'                        4.0',\n",
       " u'                    ',\n",
       " u'                ',\n",
       " u'                <td id=\"T_c689c7f0_fc4a_11e5_a8f9_a820662389fbrow1_col3\" class=\"data row1 col3\">',\n",
       " u'                    ',\n",
       " u'                        pretty',\n",
       " u'                    ',\n",
       " u'                ',\n",
       " u'            </tr>',\n",
       " u'            ',\n",
       " u'            <tr>',\n",
       " u'                ',\n",
       " u'                <th id=\"T_c689c7f0_fc4a_11e5_a8f9_a820662389fb\" class=\"row_heading level3 row2\">',\n",
       " u'                    ',\n",
       " u'                        2.0',\n",
       " u'                    ',\n",
       " u'                ',\n",
       " u'                <td id=\"T_c689c7f0_fc4a_11e5_a8f9_a820662389fbrow2_col0\" class=\"data row2 col0\">',\n",
       " u'                    ',\n",
       " u'                        0.555',\n",
       " u'                    ',\n",
       " u'                ',\n",
       " u'                <td id=\"T_c689c7f0_fc4a_11e5_a8f9_a820662389fbrow2_col1\" class=\"data row2 col1\">',\n",
       " u'                    ',\n",
       " u'                        3.0',\n",
       " u'                    ',\n",
       " u'                ',\n",
       " u'                <td id=\"T_c689c7f0_fc4a_11e5_a8f9_a820662389fbrow2_col2\" class=\"data row2 col2\">',\n",
       " u'                    ',\n",
       " u'                        3.0',\n",
       " u'                    ',\n",
       " u'                ',\n",
       " u'                <td id=\"T_c689c7f0_fc4a_11e5_a8f9_a820662389fbrow2_col3\" class=\"data row2 col3\">',\n",
       " u'                    ',\n",
       " u'                        tables',\n",
       " u'                    ',\n",
       " u'                ',\n",
       " u'            </tr>',\n",
       " u'            ',\n",
       " u'        </tbody>',\n",
       " u'        </table>',\n",
       " u'        ']"
      ]
     },
     "execution_count": 20,
     "metadata": {},
     "output_type": "execute_result"
    }
   ],
   "source": [
    "df.style.highlight_null().render().split('\\n')"
   ]
  },
  {
   "cell_type": "code",
   "execution_count": null,
   "metadata": {
    "collapsed": true
   },
   "outputs": [],
   "source": []
  }
 ],
 "metadata": {
  "hide_input": false,
  "kernelspec": {
   "display_name": "Python 2",
   "language": "python",
   "name": "python2"
  },
  "language_info": {
   "codemirror_mode": {
    "name": "ipython",
    "version": 2
   },
   "file_extension": ".py",
   "mimetype": "text/x-python",
   "name": "python",
   "nbconvert_exporter": "python",
   "pygments_lexer": "ipython2",
   "version": "2.7.11"
  },
  "toc": {
   "toc_cell": true,
   "toc_number_sections": false,
   "toc_threshold": 6,
   "toc_window_display": true
  }
 },
 "nbformat": 4,
 "nbformat_minor": 0
}
