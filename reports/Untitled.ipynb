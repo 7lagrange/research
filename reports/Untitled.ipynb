{
 "cells": [
  {
   "cell_type": "markdown",
   "metadata": {
    "slideshow": {
     "slide_type": "slide"
    }
   },
   "source": [
    "# PAH burden analysis summary\n",
    "\n",
    "   - Cases: There are 227 samples, contains 55 trios, 2 trios have low relativeness(JM0015 and JM0018)  \n",
    "\n",
    "   - ontrols: 1911 unaffected silbing from Iossifov 2014  \n"
   ]
  },
  {
   "cell_type": "code",
   "execution_count": 1,
   "metadata": {
    "collapsed": false,
    "slideshow": {
     "slide_type": "slide"
    }
   },
   "outputs": [],
   "source": [
    "import pandas as pd\n",
    "import numpy as np\n",
    "from IPython.display import display, HTML\n",
    "\n",
    "#https://github.com/HHammond/PrettyPandas\n",
    "#http://melissagymrek.com/python/2014/01/12/ipython-tables.html\n",
    "#http://nbviewer.jupyter.org/gist/chris1610/f2f4a2e9181f6ec22e88\n",
    "#http://nbviewer.jupyter.org/github/pydata/pandas/blob/master/doc/source/html-styling.ipynb\n",
    "    "
   ]
  },
  {
   "cell_type": "code",
   "execution_count": 38,
   "metadata": {
    "collapsed": false,
    "slideshow": {
     "slide_type": "skip"
    }
   },
   "outputs": [
    {
     "data": {
      "text/html": [
       "<style>\n",
       "body {\n",
       "    margin: 0;\n",
       "    font-family: Helvetica;\n",
       "\n",
       "}\n",
       "table.dataframe {\n",
       "    border-collapse: collapse;\n",
       "    border: none;\n",
       "    font-size:200%;\n",
       "}\n",
       "table.dataframe tr {\n",
       "    border: none;\n",
       "}\n",
       "table.dataframe td, table.dataframe th {\n",
       "    margin: 0;\n",
       "    border: 1px solid white;\n",
       "    padding-left: 0.25em;\n",
       "    padding-top: 0.25em;\n",
       "    padding-bottom: 0.25em;\n",
       "    padding-right: 0.25em;\n",
       "}\n",
       "table.dataframe th:not(:empty) {\n",
       "    background-color: #fec;\n",
       "    text-align: center;\n",
       "    font-weight: normal;\n",
       "}\n",
       "table.dataframe tr:nth-child(2) th:empty {\n",
       "    border-left: none;\n",
       "    border-right: 1px dashed #888;\n",
       "}\n",
       "table.dataframe td {\n",
       "    border: 1px solid #ccf;\n",
       "    background-color: #f4f4ff;\n",
       "}\n",
       "div.output_area pre {\n",
       "font-family: Helvetica;\n",
       "font-size: 250%;\n",
       "}\n",
       "</style>"
      ],
      "text/plain": [
       "<IPython.core.display.HTML object>"
      ]
     },
     "execution_count": 38,
     "metadata": {},
     "output_type": "execute_result"
    }
   ],
   "source": [
    "CSS = \"\"\"\n",
    "body {\n",
    "    margin: 0;\n",
    "    font-family: Helvetica;\n",
    "\n",
    "}\n",
    "table.dataframe {\n",
    "    border-collapse: collapse;\n",
    "    border: none;\n",
    "    font-size:200%;\n",
    "}\n",
    "table.dataframe tr {\n",
    "    border: none;\n",
    "}\n",
    "table.dataframe td, table.dataframe th {\n",
    "    margin: 0;\n",
    "    border: 1px solid white;\n",
    "    padding-left: 0.25em;\n",
    "    padding-top: 0.25em;\n",
    "    padding-bottom: 0.25em;\n",
    "    padding-right: 0.25em;\n",
    "}\n",
    "table.dataframe th:not(:empty) {\n",
    "    background-color: #fec;\n",
    "    text-align: center;\n",
    "    font-weight: normal;\n",
    "}\n",
    "table.dataframe tr:nth-child(2) th:empty {\n",
    "    border-left: none;\n",
    "    border-right: 1px dashed #888;\n",
    "}\n",
    "table.dataframe td {\n",
    "    border: 1px solid #ccf;\n",
    "    background-color: #f4f4ff;\n",
    "}\n",
    "div.output_area pre {\n",
    "font-family: Helvetica;\n",
    "font-size: 250%;\n",
    "}\n",
    "\"\"\"\n",
    "HTML('<style>{}</style>'.format(CSS))"
   ]
  },
  {
   "cell_type": "markdown",
   "metadata": {
    "slideshow": {
     "slide_type": "slide"
    }
   },
   "source": [
    "    **aaaaaaaaaaenrichment in all genes**"
   ]
  },
  {
   "cell_type": "code",
   "execution_count": 42,
   "metadata": {
    "collapsed": false,
    "slideshow": {
     "slide_type": "slide"
    }
   },
   "outputs": [
    {
     "name": "stdout",
     "output_type": "stream",
     "text": [
      "             gggggg\n",
      "\n"
     ]
    },
    {
     "data": {
      "text/html": [
       "<div>\n",
       "<table border=\"1\" class=\"dataframe\">\n",
       "  <thead>\n",
       "    <tr style=\"text-align: right;\">\n",
       "      <th></th>\n",
       "      <th>lib</th>\n",
       "      <th>qty1</th>\n",
       "      <th>qty2</th>\n",
       "    </tr>\n",
       "  </thead>\n",
       "  <tbody>\n",
       "    <tr>\n",
       "      <th>aaa</th>\n",
       "      <td>1.0</td>\n",
       "      <td>2.000</td>\n",
       "      <td>3.000e+00</td>\n",
       "    </tr>\n",
       "    <tr>\n",
       "      <th>bbb</th>\n",
       "      <td>0.1</td>\n",
       "      <td>0.001</td>\n",
       "      <td>1.000e-05</td>\n",
       "    </tr>\n",
       "  </tbody>\n",
       "</table>\n",
       "</div>"
      ],
      "text/plain": [
       "     lib   qty1       qty2\n",
       "aaa  1.0  2.000  3.000e+00\n",
       "bbb  0.1  0.001  1.000e-05"
      ]
     },
     "metadata": {},
     "output_type": "display_data"
    }
   ],
   "source": [
    "pd.set_option('display.width', 250)\n",
    "pd.set_option('display.precision', 3)\n",
    "df = pd.DataFrame(np.array([[1,2,3],[0.1,0.001,0.00001]]), index=('aaa','bbb'),columns=('lib', 'qty1', 'qty2'))\n",
    "df.style.set_caption(\"Hover to highlight.\")\n",
    "print '             gggggg'\n",
    "print ''\n",
    "display(df)"
   ]
  },
  {
   "cell_type": "code",
   "execution_count": 59,
   "metadata": {
    "collapsed": false,
    "slideshow": {
     "slide_type": "slide"
    }
   },
   "outputs": [
    {
     "data": {
      "text/html": [
       "\n",
       "        <style  type=\"text/css\" >\n",
       "        \n",
       "            #T_4ba5a6f5_fbc0_11e5_8856_a8667f036ac5 tr:hover {\n",
       "            \n",
       "                background-color: #ffff99;\n",
       "            \n",
       "            }\n",
       "        \n",
       "            #T_4ba5a6f5_fbc0_11e5_8856_a8667f036ac5 th {\n",
       "            \n",
       "                font-size: 150%;\n",
       "            \n",
       "                text-align: center;\n",
       "            \n",
       "            }\n",
       "        \n",
       "            #T_4ba5a6f5_fbc0_11e5_8856_a8667f036ac5 caption {\n",
       "            \n",
       "                caption-side: bottom;\n",
       "            \n",
       "            }\n",
       "        \n",
       "        \n",
       "        </style>\n",
       "\n",
       "        <table id=\"T_4ba5a6f5_fbc0_11e5_8856_a8667f036ac5\" None>\n",
       "        \n",
       "            <caption>Hover to highlight.</caption>\n",
       "        \n",
       "\n",
       "        <thead>\n",
       "            \n",
       "            <tr>\n",
       "                \n",
       "                <th class=\"blank\">\n",
       "                \n",
       "                <th class=\"col_heading level0 col0\">lib\n",
       "                \n",
       "                <th class=\"col_heading level0 col1\">qty1\n",
       "                \n",
       "                <th class=\"col_heading level0 col2\">qty2\n",
       "                \n",
       "            </tr>\n",
       "            \n",
       "        </thead>\n",
       "        <tbody>\n",
       "            \n",
       "            <tr>\n",
       "                \n",
       "                <th id=\"T_4ba5a6f5_fbc0_11e5_8856_a8667f036ac5\" class=\"row_heading level2 row0\">\n",
       "                    aaa\n",
       "                \n",
       "                <td id=\"T_4ba5a6f5_fbc0_11e5_8856_a8667f036ac5row0_col0\" class=\"data row0 col0\">\n",
       "                    -1.75741\n",
       "                \n",
       "                <td id=\"T_4ba5a6f5_fbc0_11e5_8856_a8667f036ac5row0_col1\" class=\"data row0 col1\">\n",
       "                    1.02974\n",
       "                \n",
       "                <td id=\"T_4ba5a6f5_fbc0_11e5_8856_a8667f036ac5row0_col2\" class=\"data row0 col2\">\n",
       "                    0.737136\n",
       "                \n",
       "            </tr>\n",
       "            \n",
       "            <tr>\n",
       "                \n",
       "                <th id=\"T_4ba5a6f5_fbc0_11e5_8856_a8667f036ac5\" class=\"row_heading level2 row1\">\n",
       "                    bbb\n",
       "                \n",
       "                <td id=\"T_4ba5a6f5_fbc0_11e5_8856_a8667f036ac5row1_col0\" class=\"data row1 col0\">\n",
       "                    1.7508\n",
       "                \n",
       "                <td id=\"T_4ba5a6f5_fbc0_11e5_8856_a8667f036ac5row1_col1\" class=\"data row1 col1\">\n",
       "                    -0.13551\n",
       "                \n",
       "                <td id=\"T_4ba5a6f5_fbc0_11e5_8856_a8667f036ac5row1_col2\" class=\"data row1 col2\">\n",
       "                    0.294834\n",
       "                \n",
       "            </tr>\n",
       "            \n",
       "        </tbody>\n",
       "        </table>\n",
       "        "
      ],
      "text/plain": [
       "<pandas.core.style.Styler at 0x11489dc50>"
      ]
     },
     "execution_count": 59,
     "metadata": {},
     "output_type": "execute_result"
    }
   ],
   "source": [
    "def hover(hover_color=\"#ffff99\"):\n",
    "    return dict(selector=\"tr:hover\",\n",
    "                props=[(\"background-color\", \"%s\" % hover_color)])\n",
    "\n",
    "styles = [\n",
    "    hover(),\n",
    "    dict(selector=\"th\", props=[(\"font-size\", \"150%\"),\n",
    "                               (\"text-align\", \"center\")]),\n",
    "    dict(selector=\"caption\", props=[(\"caption-side\", \"bottom\")])\n",
    "]\n",
    "html = (df.style.set_table_styles(styles)\n",
    "          .set_caption(\"Hover to highlight.\"))\n",
    "html\n",
    "#help(df.style)"
   ]
  },
  {
   "cell_type": "code",
   "execution_count": 26,
   "metadata": {
    "collapsed": false,
    "slideshow": {
     "slide_type": "slide"
    }
   },
   "outputs": [
    {
     "data": {
      "text/html": [
       "<table border=\"1\" class=\"dataframe\">\n",
       "  <thead>\n",
       "    <tr style=\"text-align: right;\">\n",
       "      <th></th>\n",
       "      <th>lib</th>\n",
       "      <th>qty1</th>\n",
       "      <th>qty2</th>\n",
       "    </tr>\n",
       "  </thead>\n",
       "  <tbody>\n",
       "    <tr>\n",
       "      <th>aaa</th>\n",
       "      <td>0.429585</td>\n",
       "      <td>-0.683696</td>\n",
       "      <td>-1.295181</td>\n",
       "    </tr>\n",
       "    <tr>\n",
       "      <th>bbb</th>\n",
       "      <td>-0.812233</td>\n",
       "      <td>1.854825</td>\n",
       "      <td>-0.238074</td>\n",
       "    </tr>\n",
       "  </tbody>\n",
       "</table>"
      ],
      "text/plain": [
       "<IPython.core.display.HTML object>"
      ]
     },
     "execution_count": 26,
     "metadata": {},
     "output_type": "execute_result"
    }
   ],
   "source": [
    "HTML(df.to_html())"
   ]
  },
  {
   "cell_type": "code",
   "execution_count": 41,
   "metadata": {
    "collapsed": false,
    "slideshow": {
     "slide_type": "slide"
    }
   },
   "outputs": [
    {
     "name": "stdout",
     "output_type": "stream",
     "text": [
      "250\n",
      "\n"
     ]
    }
   ],
   "source": [
    "print pd.options.display.width\n",
    "print ''"
   ]
  },
  {
   "cell_type": "code",
   "execution_count": 33,
   "metadata": {
    "collapsed": false,
    "slideshow": {
     "slide_type": "slide"
    }
   },
   "outputs": [
    {
     "data": {
      "text/plain": [
       "100"
      ]
     },
     "execution_count": 33,
     "metadata": {},
     "output_type": "execute_result"
    }
   ],
   "source": [
    "pd.options.display.max_colwidth"
   ]
  },
  {
   "cell_type": "code",
   "execution_count": null,
   "metadata": {
    "collapsed": true,
    "slideshow": {
     "slide_type": "slide"
    }
   },
   "outputs": [],
   "source": [
    "import numpy as np\n",
    "import matplotlib.pyplot as plt\n",
    "\n",
    "\n",
    "data = [[  66386,  174296,   75131,  577908,   32015],\n",
    "        [  58230,  381139,   78045,   99308,  160454],\n",
    "        [  89135,   80552,  152558,  497981,  603535],\n",
    "        [  78415,   81858,  150656,  193263,   69638],\n",
    "        [ 139361,  331509,  343164,  781380,   52269]]\n",
    "\n",
    "columns = ('Freeze', 'Wind', 'Flood', 'Quake', 'Hail')\n",
    "rows = ['%d year' % x for x in (100, 50, 20, 10, 5)]\n",
    "\n",
    "values = np.arange(0, 2500, 500)\n",
    "value_increment = 1000\n",
    "\n",
    "# Get some pastel shades for the colors\n",
    "colors = plt.cm.BuPu(np.linspace(0, 0.5, len(rows)))\n",
    "n_rows = len(data)\n",
    "\n",
    "index = np.arange(len(columns)) + 0.3\n",
    "bar_width = 0.4\n",
    "\n",
    "# Initialize the vertical-offset for the stacked bar chart.\n",
    "y_offset = np.array([0.0] * len(columns))\n",
    "\n",
    "# Plot bars and create text labels for the table\n",
    "cell_text = []\n",
    "for row in range(n_rows):\n",
    "    plt.bar(index, data[row], bar_width, bottom=y_offset, color=colors[row])\n",
    "    y_offset = y_offset + data[row]\n",
    "    cell_text.append(['%1.1f' % (x/1000.0) for x in y_offset])\n",
    "# Reverse colors and text labels to display the last value at the top.\n",
    "colors = colors[::-1]\n",
    "cell_text.reverse()\n",
    "\n",
    "# Add a table at the bottom of the axes\n",
    "the_table = plt.table(cellText=cell_text,\n",
    "                      rowLabels=rows,\n",
    "                      rowColours=colors,\n",
    "                      colLabels=columns,\n",
    "                      loc='bottom')\n",
    "\n",
    "# Adjust layout to make room for the table:\n",
    "plt.subplots_adjust(left=0.2, bottom=0.2)\n",
    "\n",
    "plt.ylabel(\"Loss in ${0}'s\".format(value_increment))\n",
    "plt.yticks(values * value_increment, ['%d' % val for val in values])\n",
    "plt.xticks([])\n",
    "plt.title('Loss by Disaster')\n",
    "\n",
    "plt.show()"
   ]
  },
  {
   "cell_type": "code",
   "execution_count": null,
   "metadata": {
    "collapsed": true
   },
   "outputs": [],
   "source": []
  }
 ],
 "metadata": {
  "celltoolbar": "Slideshow",
  "hide_input": false,
  "kernelspec": {
   "display_name": "Python 2",
   "language": "python",
   "name": "python2"
  },
  "language_info": {
   "codemirror_mode": {
    "name": "ipython",
    "version": 2
   },
   "file_extension": ".py",
   "mimetype": "text/x-python",
   "name": "python",
   "nbconvert_exporter": "python",
   "pygments_lexer": "ipython2",
   "version": "2.7.11"
  },
  "toc": {
   "toc_cell": false,
   "toc_number_sections": false,
   "toc_section_display": "none",
   "toc_threshold": 6,
   "toc_window_display": true
  },
  "toc_position": {
   "height": "87px",
   "left": "1066.02px",
   "right": "20px",
   "top": "43px",
   "width": "185px"
  }
 },
 "nbformat": 4,
 "nbformat_minor": 0
}
