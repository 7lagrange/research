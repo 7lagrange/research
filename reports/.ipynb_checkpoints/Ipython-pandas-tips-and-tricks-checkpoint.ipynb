{
 "cells": [
  {
   "cell_type": "markdown",
   "metadata": {
    "slideshow": {
     "slide_type": "slide"
    },
    "toc": "true"
   },
   "source": [
    "# Table of Contents\n",
    " <p><div class=\"lev1\"><a href=\"#Introduction\">Introduction</a></div><div class=\"lev2\"><a href=\"#Import-modules-and-some-sample-data\">Import modules and some sample data</a></div><div class=\"lev2\"><a href=\"#Using-pandas-settings-to-control-output\">Using pandas settings to control output</a></div><div class=\"lev2\"><a href=\"#Third-Party-Plugins\">Third Party Plugins</a></div>"
   ]
  },
  {
   "cell_type": "markdown",
   "metadata": {
    "slideshow": {
     "slide_type": "-"
    }
   },
   "source": [
    "# Introduction"
   ]
  },
  {
   "cell_type": "markdown",
   "metadata": {
    "slideshow": {
     "slide_type": "-"
    }
   },
   "source": [
    "IPython, pandas and matplotlib have a number of useful options you can use to make it easier to view and format your data. This notebook collects a bunch of them in one place. I hope this will be a useful reference.\n",
    "\n",
    "The original blog posting is on http://pbpython.com/ipython-pandas-display-tips.html"
   ]
  },
  {
   "cell_type": "markdown",
   "metadata": {
    "slideshow": {
     "slide_type": "-"
    }
   },
   "source": [
    "## Import modules and some sample data"
   ]
  },
  {
   "cell_type": "markdown",
   "metadata": {
    "slideshow": {
     "slide_type": "-"
    }
   },
   "source": [
    "First, do our standard pandas, numpy and matplotlib imports as well as configure inline displays of plots."
   ]
  },
  {
   "cell_type": "code",
   "execution_count": 2,
   "metadata": {
    "collapsed": false,
    "slideshow": {
     "slide_type": "-"
    }
   },
   "outputs": [
    {
     "name": "stderr",
     "output_type": "stream",
     "text": [
      "/Users/hongjian/anaconda/lib/python2.7/site-packages/matplotlib/font_manager.py:273: UserWarning: Matplotlib is building the font cache using fc-list. This may take a moment.\n",
      "  warnings.warn('Matplotlib is building the font cache using fc-list. This may take a moment.')\n"
     ]
    }
   ],
   "source": [
    "import numpy as np\n",
    "import pandas as pd\n",
    "import matplotlib.pyplot as plt\n",
    "%matplotlib inline"
   ]
  },
  {
   "cell_type": "markdown",
   "metadata": {
    "slideshow": {
     "slide_type": "-"
    }
   },
   "source": [
    "One of the simple things we can do is override the default CSS to customize our DataFrame output.\n",
    "\n",
    "This specific example is from - [Brandon Rhodes' talk at pycon](https://www.youtube.com/watch?v=5JnMutdy6Fw \"Pandas From The Ground Up\")"
   ]
  },
  {
   "cell_type": "markdown",
   "metadata": {},
   "source": [
    "For the purposes of the notebook, I'm defining CSS as a variable but you could easily read in from a file as well."
   ]
  },
  {
   "cell_type": "code",
   "execution_count": 27,
   "metadata": {
    "collapsed": true
   },
   "outputs": [],
   "source": [
    "CSS = \"\"\"\n",
    "body {\n",
    "    margin: 0;\n",
    "    font-family: Helvetica;\n",
    "}\n",
    "table.dataframe {\n",
    "    border-collapse: collapse;\n",
    "    border: none;\n",
    "}\n",
    "table.dataframe tr {\n",
    "    border: none;\n",
    "}\n",
    "table.dataframe td, table.dataframe th {\n",
    "    margin: 0;\n",
    "    border: 1px solid white;\n",
    "    padding-left: 0.25em;\n",
    "    padding-right: 0.25em;\n",
    "}\n",
    "table.dataframe th:not(:empty) {\n",
    "    background-color: #fec;\n",
    "    text-align: left;\n",
    "    font-weight: normal;\n",
    "}\n",
    "table.dataframe tr:nth-child(2) th:empty {\n",
    "    border-left: none;\n",
    "    border-right: 1px dashed #888;\n",
    "}\n",
    "table.dataframe td {\n",
    "    border: 2px solid #ccf;\n",
    "    background-color: #f4f4ff;\n",
    "}\n",
    "\"\"\""
   ]
  },
  {
   "cell_type": "markdown",
   "metadata": {},
   "source": [
    "Now add this CSS into the current notebook's HTML."
   ]
  },
  {
   "cell_type": "code",
   "execution_count": 28,
   "metadata": {
    "collapsed": false
   },
   "outputs": [
    {
     "data": {
      "text/html": [
       "<style>\n",
       "body {\n",
       "    margin: 0;\n",
       "    font-family: Helvetica;\n",
       "}\n",
       "table.dataframe {\n",
       "    border-collapse: collapse;\n",
       "    border: none;\n",
       "}\n",
       "table.dataframe tr {\n",
       "    border: none;\n",
       "}\n",
       "table.dataframe td, table.dataframe th {\n",
       "    margin: 0;\n",
       "    border: 1px solid white;\n",
       "    padding-left: 0.25em;\n",
       "    padding-right: 0.25em;\n",
       "}\n",
       "table.dataframe th:not(:empty) {\n",
       "    background-color: #fec;\n",
       "    text-align: left;\n",
       "    font-weight: normal;\n",
       "}\n",
       "table.dataframe tr:nth-child(2) th:empty {\n",
       "    border-left: none;\n",
       "    border-right: 1px dashed #888;\n",
       "}\n",
       "table.dataframe td {\n",
       "    border: 2px solid #ccf;\n",
       "    background-color: #f4f4ff;\n",
       "}\n",
       "</style>"
      ],
      "text/plain": [
       "<IPython.core.display.HTML object>"
      ]
     },
     "execution_count": 28,
     "metadata": {},
     "output_type": "execute_result"
    }
   ],
   "source": [
    "from IPython.core.display import HTML\n",
    "HTML('<style>{}</style>'.format(CSS))"
   ]
  },
  {
   "cell_type": "code",
   "execution_count": 29,
   "metadata": {
    "collapsed": false
   },
   "outputs": [
    {
     "name": "stdout",
     "output_type": "stream",
     "text": [
      "             gggggg\n",
      "\n"
     ]
    },
    {
     "data": {
      "text/html": [
       "<div>\n",
       "<table border=\"1\" class=\"dataframe\">\n",
       "  <thead>\n",
       "    <tr style=\"text-align: right;\">\n",
       "      <th></th>\n",
       "      <th>lib</th>\n",
       "      <th>qty1</th>\n",
       "      <th>qty2</th>\n",
       "    </tr>\n",
       "  </thead>\n",
       "  <tbody>\n",
       "    <tr>\n",
       "      <th>aaa</th>\n",
       "      <td>$1.00</td>\n",
       "      <td>$2.00</td>\n",
       "      <td>$3.00</td>\n",
       "    </tr>\n",
       "    <tr>\n",
       "      <th>bbb</th>\n",
       "      <td>$0.10</td>\n",
       "      <td>$0.00</td>\n",
       "      <td>$0.00</td>\n",
       "    </tr>\n",
       "  </tbody>\n",
       "</table>\n",
       "</div>"
      ],
      "text/plain": [
       "      lib  qty1  qty2\n",
       "aaa $1.00 $2.00 $3.00\n",
       "bbb $0.10 $0.00 $0.00"
      ]
     },
     "metadata": {},
     "output_type": "display_data"
    }
   ],
   "source": [
    "pd.set_option('display.width', 250)\n",
    "pd.set_option('display.precision', 3)\n",
    "df = pd.DataFrame(np.array([[1,2,3],[0.1,0.001,0.00001]]), index=('aaa','bbb'),columns=('lib', 'qty1', 'qty2'))\n",
    "df.style.set_caption(\"Hover to highlight.\")\n",
    "print '             gggggg'\n",
    "print ''\n",
    "display(df)"
   ]
  },
  {
   "cell_type": "code",
   "execution_count": 3,
   "metadata": {
    "collapsed": false,
    "slideshow": {
     "slide_type": "-"
    }
   },
   "outputs": [
    {
     "data": {
      "text/html": [
       "<div>\n",
       "<table border=\"1\" class=\"dataframe\">\n",
       "  <thead>\n",
       "    <tr style=\"text-align: right;\">\n",
       "      <th></th>\n",
       "      <th>CHROM</th>\n",
       "      <th>POS</th>\n",
       "      <th>ID</th>\n",
       "      <th>REF</th>\n",
       "      <th>ALT</th>\n",
       "      <th>QUAL</th>\n",
       "      <th>FILTER</th>\n",
       "      <th>proband ID(GT:AD:DP:GQ:PL)</th>\n",
       "      <th>parents</th>\n",
       "      <th>1KG.afr.freq</th>\n",
       "      <th>...</th>\n",
       "      <th>SOR</th>\n",
       "      <th>SegDup</th>\n",
       "      <th>SiPhy</th>\n",
       "      <th>VQSLOD</th>\n",
       "      <th>VarClass</th>\n",
       "      <th>VarFunc</th>\n",
       "      <th>culprit</th>\n",
       "      <th>In repetitive regions</th>\n",
       "      <th>75bp_mappability</th>\n",
       "      <th>IGV</th>\n",
       "    </tr>\n",
       "  </thead>\n",
       "  <tbody>\n",
       "    <tr>\n",
       "      <th>0</th>\n",
       "      <td>17</td>\n",
       "      <td>59545005</td>\n",
       "      <td>.</td>\n",
       "      <td>ACCCCTTTGGC</td>\n",
       "      <td>A</td>\n",
       "      <td>1848.70</td>\n",
       "      <td>PASS</td>\n",
       "      <td>JM847(0/1:84,52:136:99:1903,0,9580)</td>\n",
       "      <td>JM848(0/0:35,0:35:99:0,99,1485),JM849(0/0:37,0...</td>\n",
       "      <td>NaN</td>\n",
       "      <td>...</td>\n",
       "      <td>0.722</td>\n",
       "      <td>NaN</td>\n",
       "      <td>NaN</td>\n",
       "      <td>3.35</td>\n",
       "      <td>frameshiftdeletion</td>\n",
       "      <td>exonic</td>\n",
       "      <td>FS</td>\n",
       "      <td>No</td>\n",
       "      <td>1.00</td>\n",
       "      <td>PASS</td>\n",
       "    </tr>\n",
       "    <tr>\n",
       "      <th>1</th>\n",
       "      <td>5</td>\n",
       "      <td>23527684</td>\n",
       "      <td>.</td>\n",
       "      <td>G</td>\n",
       "      <td>T</td>\n",
       "      <td>1627.01</td>\n",
       "      <td>PASS</td>\n",
       "      <td>JM1321(0/1:59,62:121:99:1672,0,1659)</td>\n",
       "      <td>JM1319(0/0:33,0:33:99:0,99,1292),JM1320(0/0:49...</td>\n",
       "      <td>NaN</td>\n",
       "      <td>...</td>\n",
       "      <td>0.717</td>\n",
       "      <td>Score:0.927918,Name:chr16:90123418</td>\n",
       "      <td>4.067</td>\n",
       "      <td>4.44</td>\n",
       "      <td>nonsynonymousSNV</td>\n",
       "      <td>exonic</td>\n",
       "      <td>FS</td>\n",
       "      <td>No</td>\n",
       "      <td>0.25</td>\n",
       "      <td>PASS</td>\n",
       "    </tr>\n",
       "    <tr>\n",
       "      <th>2</th>\n",
       "      <td>13</td>\n",
       "      <td>20600785</td>\n",
       "      <td>.</td>\n",
       "      <td>C</td>\n",
       "      <td>T</td>\n",
       "      <td>1362.83</td>\n",
       "      <td>PASS</td>\n",
       "      <td>JM630(0/1:44,45:89:99:1408,0,1350)</td>\n",
       "      <td>JM430(0/0:34,0:34:99:0,99,1437),JM431(0/0:34,0...</td>\n",
       "      <td>NaN</td>\n",
       "      <td>...</td>\n",
       "      <td>0.937</td>\n",
       "      <td>NaN</td>\n",
       "      <td>11.759</td>\n",
       "      <td>1.84</td>\n",
       "      <td>stopgain</td>\n",
       "      <td>exonic</td>\n",
       "      <td>ReadPosRankSum</td>\n",
       "      <td>No</td>\n",
       "      <td>1.00</td>\n",
       "      <td>PASS</td>\n",
       "    </tr>\n",
       "    <tr>\n",
       "      <th>3</th>\n",
       "      <td>15</td>\n",
       "      <td>41372034</td>\n",
       "      <td>.</td>\n",
       "      <td>G</td>\n",
       "      <td>A</td>\n",
       "      <td>1147.82</td>\n",
       "      <td>PASS</td>\n",
       "      <td>JM0013(0/1:82,43:125:99:1193,0,2663)</td>\n",
       "      <td>JM576(0/0:33,0:33:99:0,99,1205),JM577(0/0:39,0...</td>\n",
       "      <td>NaN</td>\n",
       "      <td>...</td>\n",
       "      <td>0.593</td>\n",
       "      <td>NaN</td>\n",
       "      <td>NaN</td>\n",
       "      <td>1.28</td>\n",
       "      <td>synonymousSNV</td>\n",
       "      <td>exonic</td>\n",
       "      <td>FS</td>\n",
       "      <td>No</td>\n",
       "      <td>1.00</td>\n",
       "      <td>PASS</td>\n",
       "    </tr>\n",
       "    <tr>\n",
       "      <th>4</th>\n",
       "      <td>11</td>\n",
       "      <td>126138600</td>\n",
       "      <td>.</td>\n",
       "      <td>G</td>\n",
       "      <td>T</td>\n",
       "      <td>2533.71</td>\n",
       "      <td>PASS</td>\n",
       "      <td>FPPH133-01(0/1:150,98:248:99:2579,0,4352)</td>\n",
       "      <td>FPPH133-03(0/0:36,0:36:99:0,99,1485),FPPH133-0...</td>\n",
       "      <td>NaN</td>\n",
       "      <td>...</td>\n",
       "      <td>0.836</td>\n",
       "      <td>NaN</td>\n",
       "      <td>17.832</td>\n",
       "      <td>1.15</td>\n",
       "      <td>nonsynonymousSNV</td>\n",
       "      <td>exonic</td>\n",
       "      <td>QD</td>\n",
       "      <td>No</td>\n",
       "      <td>1.00</td>\n",
       "      <td>PASS</td>\n",
       "    </tr>\n",
       "  </tbody>\n",
       "</table>\n",
       "<p>5 rows × 94 columns</p>\n",
       "</div>"
      ],
      "text/plain": [
       "  CHROM        POS ID          REF ALT     QUAL FILTER  \\\n",
       "0    17   59545005  .  ACCCCTTTGGC   A  1848.70   PASS   \n",
       "1     5   23527684  .            G   T  1627.01   PASS   \n",
       "2    13   20600785  .            C   T  1362.83   PASS   \n",
       "3    15   41372034  .            G   A  1147.82   PASS   \n",
       "4    11  126138600  .            G   T  2533.71   PASS   \n",
       "\n",
       "                  proband ID(GT:AD:DP:GQ:PL)  \\\n",
       "0        JM847(0/1:84,52:136:99:1903,0,9580)   \n",
       "1       JM1321(0/1:59,62:121:99:1672,0,1659)   \n",
       "2         JM630(0/1:44,45:89:99:1408,0,1350)   \n",
       "3       JM0013(0/1:82,43:125:99:1193,0,2663)   \n",
       "4  FPPH133-01(0/1:150,98:248:99:2579,0,4352)   \n",
       "\n",
       "                                             parents  1KG.afr.freq  ...   \\\n",
       "0  JM848(0/0:35,0:35:99:0,99,1485),JM849(0/0:37,0...           NaN  ...    \n",
       "1  JM1319(0/0:33,0:33:99:0,99,1292),JM1320(0/0:49...           NaN  ...    \n",
       "2  JM430(0/0:34,0:34:99:0,99,1437),JM431(0/0:34,0...           NaN  ...    \n",
       "3  JM576(0/0:33,0:33:99:0,99,1205),JM577(0/0:39,0...           NaN  ...    \n",
       "4  FPPH133-03(0/0:36,0:36:99:0,99,1485),FPPH133-0...           NaN  ...    \n",
       "\n",
       "     SOR                              SegDup   SiPhy  VQSLOD  \\\n",
       "0  0.722                                 NaN     NaN    3.35   \n",
       "1  0.717  Score:0.927918,Name:chr16:90123418   4.067    4.44   \n",
       "2  0.937                                 NaN  11.759    1.84   \n",
       "3  0.593                                 NaN     NaN    1.28   \n",
       "4  0.836                                 NaN  17.832    1.15   \n",
       "\n",
       "             VarClass VarFunc         culprit  In repetitive regions  \\\n",
       "0  frameshiftdeletion  exonic              FS                     No   \n",
       "1    nonsynonymousSNV  exonic              FS                     No   \n",
       "2            stopgain  exonic  ReadPosRankSum                     No   \n",
       "3       synonymousSNV  exonic              FS                     No   \n",
       "4    nonsynonymousSNV  exonic              QD                     No   \n",
       "\n",
       "   75bp_mappability   IGV  \n",
       "0              1.00  PASS  \n",
       "1              0.25  PASS  \n",
       "2              1.00  PASS  \n",
       "3              1.00  PASS  \n",
       "4              1.00  PASS  \n",
       "\n",
       "[5 rows x 94 columns]"
      ]
     },
     "execution_count": 3,
     "metadata": {},
     "output_type": "execute_result"
    }
   ],
   "source": [
    "SALES=pd.read_csv(\"add_igv.csv\")\n",
    "SALES.head()"
   ]
  },
  {
   "cell_type": "code",
   "execution_count": null,
   "metadata": {
    "collapsed": true
   },
   "outputs": [],
   "source": []
  },
  {
   "cell_type": "markdown",
   "metadata": {},
   "source": [
    "You can see how the CSS is now applied to the DataFrame and how you could easily modify it to customize it to your liking.\n",
    "\n",
    "Jupyter notebooks do a good job of automatically displaying information but sometimes you want to force data to display. Fortunately, ipython provides and option. This is especially useful if you want to display multiple dataframes."
   ]
  },
  {
   "cell_type": "code",
   "execution_count": 70,
   "metadata": {
    "collapsed": true
   },
   "outputs": [],
   "source": [
    "from IPython.display import display"
   ]
  },
  {
   "cell_type": "code",
   "execution_count": 71,
   "metadata": {
    "collapsed": false,
    "scrolled": false
   },
   "outputs": [
    {
     "data": {
      "text/html": [
       "<div>\n",
       "<table border=\"1\" class=\"dataframe\">\n",
       "  <thead>\n",
       "    <tr style=\"text-align: right;\">\n",
       "      <th></th>\n",
       "      <th>CHROM</th>\n",
       "      <th>POS</th>\n",
       "      <th>ID</th>\n",
       "      <th>...</th>\n",
       "      <th>In repetitive regions</th>\n",
       "      <th>75bp_mappability</th>\n",
       "      <th>IGV</th>\n",
       "    </tr>\n",
       "  </thead>\n",
       "  <tbody>\n",
       "    <tr>\n",
       "      <th>0</th>\n",
       "      <td>17</td>\n",
       "      <td>59545005</td>\n",
       "      <td>.</td>\n",
       "      <td>...</td>\n",
       "      <td>No</td>\n",
       "      <td>$1.00</td>\n",
       "      <td>PASS</td>\n",
       "    </tr>\n",
       "    <tr>\n",
       "      <th>1</th>\n",
       "      <td>5</td>\n",
       "      <td>23527684</td>\n",
       "      <td>.</td>\n",
       "      <td>...</td>\n",
       "      <td>No</td>\n",
       "      <td>$0.25</td>\n",
       "      <td>PASS</td>\n",
       "    </tr>\n",
       "  </tbody>\n",
       "</table>\n",
       "<p>2 rows × 94 columns</p>\n",
       "</div>"
      ],
      "text/plain": [
       "  CHROM       POS ID  ...  In repetitive regions 75bp_mappability   IGV\n",
       "0    17  59545005  .  ...                     No            $1.00  PASS\n",
       "1     5  23527684  .  ...                     No            $0.25  PASS\n",
       "\n",
       "[2 rows x 94 columns]"
      ]
     },
     "metadata": {},
     "output_type": "display_data"
    },
    {
     "data": {
      "text/html": [
       "<div>\n",
       "<table border=\"1\" class=\"dataframe\">\n",
       "  <thead>\n",
       "    <tr style=\"text-align: right;\">\n",
       "      <th></th>\n",
       "      <th>CHROM</th>\n",
       "      <th>POS</th>\n",
       "      <th>ID</th>\n",
       "      <th>...</th>\n",
       "      <th>In repetitive regions</th>\n",
       "      <th>75bp_mappability</th>\n",
       "      <th>IGV</th>\n",
       "    </tr>\n",
       "  </thead>\n",
       "  <tbody>\n",
       "    <tr>\n",
       "      <th>48</th>\n",
       "      <td>19</td>\n",
       "      <td>10597451</td>\n",
       "      <td>.</td>\n",
       "      <td>...</td>\n",
       "      <td>No</td>\n",
       "      <td>$1.00</td>\n",
       "      <td>PASS</td>\n",
       "    </tr>\n",
       "    <tr>\n",
       "      <th>49</th>\n",
       "      <td>16</td>\n",
       "      <td>84115458</td>\n",
       "      <td>.</td>\n",
       "      <td>...</td>\n",
       "      <td>No</td>\n",
       "      <td>$1.00</td>\n",
       "      <td>PASS</td>\n",
       "    </tr>\n",
       "  </tbody>\n",
       "</table>\n",
       "<p>2 rows × 94 columns</p>\n",
       "</div>"
      ],
      "text/plain": [
       "   CHROM       POS ID  ...  In repetitive regions 75bp_mappability   IGV\n",
       "48    19  10597451  .  ...                     No            $1.00  PASS\n",
       "49    16  84115458  .  ...                     No            $1.00  PASS\n",
       "\n",
       "[2 rows x 94 columns]"
      ]
     },
     "metadata": {},
     "output_type": "display_data"
    },
    {
     "data": {
      "text/html": [
       "<div>\n",
       "<table border=\"1\" class=\"dataframe\">\n",
       "  <thead>\n",
       "    <tr style=\"text-align: right;\">\n",
       "      <th></th>\n",
       "      <th>POS</th>\n",
       "      <th>QUAL</th>\n",
       "      <th>1KG.afr.freq</th>\n",
       "      <th>...</th>\n",
       "      <th>SiPhy</th>\n",
       "      <th>VQSLOD</th>\n",
       "      <th>75bp_mappability</th>\n",
       "    </tr>\n",
       "  </thead>\n",
       "  <tbody>\n",
       "    <tr>\n",
       "      <th>count</th>\n",
       "      <td>$50.00</td>\n",
       "      <td>$50.00</td>\n",
       "      <td>$2.00</td>\n",
       "      <td>...</td>\n",
       "      <td>$32.00</td>\n",
       "      <td>$50.00</td>\n",
       "      <td>$50.00</td>\n",
       "    </tr>\n",
       "    <tr>\n",
       "      <th>mean</th>\n",
       "      <td>$70441545.42</td>\n",
       "      <td>$1262.56</td>\n",
       "      <td>$0.00</td>\n",
       "      <td>...</td>\n",
       "      <td>$13.25</td>\n",
       "      <td>$1.18</td>\n",
       "      <td>$0.96</td>\n",
       "    </tr>\n",
       "    <tr>\n",
       "      <th>...</th>\n",
       "      <td>...</td>\n",
       "      <td>...</td>\n",
       "      <td>...</td>\n",
       "      <td>...</td>\n",
       "      <td>...</td>\n",
       "      <td>...</td>\n",
       "      <td>...</td>\n",
       "    </tr>\n",
       "    <tr>\n",
       "      <th>75%</th>\n",
       "      <td>$98204291.50</td>\n",
       "      <td>$1582.31</td>\n",
       "      <td>$0.00</td>\n",
       "      <td>...</td>\n",
       "      <td>$16.90</td>\n",
       "      <td>$1.97</td>\n",
       "      <td>$1.00</td>\n",
       "    </tr>\n",
       "    <tr>\n",
       "      <th>max</th>\n",
       "      <td>$233274548.00</td>\n",
       "      <td>$6421.90</td>\n",
       "      <td>$0.00</td>\n",
       "      <td>...</td>\n",
       "      <td>$19.55</td>\n",
       "      <td>$4.44</td>\n",
       "      <td>$1.00</td>\n",
       "    </tr>\n",
       "  </tbody>\n",
       "</table>\n",
       "<p>8 rows × 67 columns</p>\n",
       "</div>"
      ],
      "text/plain": [
       "                POS     QUAL  1KG.afr.freq        ...         SiPhy  VQSLOD  75bp_mappability\n",
       "count        $50.00   $50.00         $2.00        ...        $32.00  $50.00            $50.00\n",
       "mean   $70441545.42 $1262.56         $0.00        ...        $13.25   $1.18             $0.96\n",
       "...             ...      ...           ...        ...           ...     ...               ...\n",
       "75%    $98204291.50 $1582.31         $0.00        ...        $16.90   $1.97             $1.00\n",
       "max   $233274548.00 $6421.90         $0.00        ...        $19.55   $4.44             $1.00\n",
       "\n",
       "[8 rows x 67 columns]"
      ]
     },
     "metadata": {},
     "output_type": "display_data"
    }
   ],
   "source": [
    "display(SALES.head(2))\n",
    "display(SALES.tail(2))\n",
    "display(SALES.describe())"
   ]
  },
  {
   "cell_type": "markdown",
   "metadata": {},
   "source": [
    "## Using pandas settings to control output"
   ]
  },
  {
   "cell_type": "markdown",
   "metadata": {},
   "source": [
    "Pandas has many different options to control how data is displayed.\n",
    "\n",
    "You can use max_rows to control how many rows are displayed"
   ]
  },
  {
   "cell_type": "code",
   "execution_count": 72,
   "metadata": {
    "collapsed": true
   },
   "outputs": [],
   "source": [
    "pd.set_option(\"display.max_rows\",4)"
   ]
  },
  {
   "cell_type": "code",
   "execution_count": 73,
   "metadata": {
    "collapsed": false
   },
   "outputs": [
    {
     "data": {
      "text/html": [
       "<div>\n",
       "<table border=\"1\" class=\"dataframe\">\n",
       "  <thead>\n",
       "    <tr style=\"text-align: right;\">\n",
       "      <th></th>\n",
       "      <th>CHROM</th>\n",
       "      <th>POS</th>\n",
       "      <th>ID</th>\n",
       "      <th>...</th>\n",
       "      <th>In repetitive regions</th>\n",
       "      <th>75bp_mappability</th>\n",
       "      <th>IGV</th>\n",
       "    </tr>\n",
       "  </thead>\n",
       "  <tbody>\n",
       "    <tr>\n",
       "      <th>0</th>\n",
       "      <td>17</td>\n",
       "      <td>59545005</td>\n",
       "      <td>.</td>\n",
       "      <td>...</td>\n",
       "      <td>No</td>\n",
       "      <td>$1.00</td>\n",
       "      <td>PASS</td>\n",
       "    </tr>\n",
       "    <tr>\n",
       "      <th>1</th>\n",
       "      <td>5</td>\n",
       "      <td>23527684</td>\n",
       "      <td>.</td>\n",
       "      <td>...</td>\n",
       "      <td>No</td>\n",
       "      <td>$0.25</td>\n",
       "      <td>PASS</td>\n",
       "    </tr>\n",
       "    <tr>\n",
       "      <th>...</th>\n",
       "      <td>...</td>\n",
       "      <td>...</td>\n",
       "      <td>...</td>\n",
       "      <td>...</td>\n",
       "      <td>...</td>\n",
       "      <td>...</td>\n",
       "      <td>...</td>\n",
       "    </tr>\n",
       "    <tr>\n",
       "      <th>48</th>\n",
       "      <td>19</td>\n",
       "      <td>10597451</td>\n",
       "      <td>.</td>\n",
       "      <td>...</td>\n",
       "      <td>No</td>\n",
       "      <td>$1.00</td>\n",
       "      <td>PASS</td>\n",
       "    </tr>\n",
       "    <tr>\n",
       "      <th>49</th>\n",
       "      <td>16</td>\n",
       "      <td>84115458</td>\n",
       "      <td>.</td>\n",
       "      <td>...</td>\n",
       "      <td>No</td>\n",
       "      <td>$1.00</td>\n",
       "      <td>PASS</td>\n",
       "    </tr>\n",
       "  </tbody>\n",
       "</table>\n",
       "<p>50 rows × 94 columns</p>\n",
       "</div>"
      ],
      "text/plain": [
       "   CHROM       POS ID  ...  In repetitive regions 75bp_mappability   IGV\n",
       "0     17  59545005  .  ...                     No            $1.00  PASS\n",
       "1      5  23527684  .  ...                     No            $0.25  PASS\n",
       "..   ...       ... ..  ...                    ...              ...   ...\n",
       "48    19  10597451  .  ...                     No            $1.00  PASS\n",
       "49    16  84115458  .  ...                     No            $1.00  PASS\n",
       "\n",
       "[50 rows x 94 columns]"
      ]
     },
     "execution_count": 73,
     "metadata": {},
     "output_type": "execute_result"
    }
   ],
   "source": [
    "SALES"
   ]
  },
  {
   "cell_type": "markdown",
   "metadata": {},
   "source": [
    "Depending on the data set, you may only want to display a smaller number of columns."
   ]
  },
  {
   "cell_type": "code",
   "execution_count": 74,
   "metadata": {
    "collapsed": true
   },
   "outputs": [],
   "source": [
    "pd.set_option(\"display.max_columns\",6)"
   ]
  },
  {
   "cell_type": "code",
   "execution_count": 75,
   "metadata": {
    "collapsed": false
   },
   "outputs": [
    {
     "data": {
      "text/html": [
       "<div>\n",
       "<table border=\"1\" class=\"dataframe\">\n",
       "  <thead>\n",
       "    <tr style=\"text-align: right;\">\n",
       "      <th></th>\n",
       "      <th>CHROM</th>\n",
       "      <th>POS</th>\n",
       "      <th>ID</th>\n",
       "      <th>...</th>\n",
       "      <th>In repetitive regions</th>\n",
       "      <th>75bp_mappability</th>\n",
       "      <th>IGV</th>\n",
       "    </tr>\n",
       "  </thead>\n",
       "  <tbody>\n",
       "    <tr>\n",
       "      <th>0</th>\n",
       "      <td>17</td>\n",
       "      <td>59545005</td>\n",
       "      <td>.</td>\n",
       "      <td>...</td>\n",
       "      <td>No</td>\n",
       "      <td>$1.00</td>\n",
       "      <td>PASS</td>\n",
       "    </tr>\n",
       "    <tr>\n",
       "      <th>1</th>\n",
       "      <td>5</td>\n",
       "      <td>23527684</td>\n",
       "      <td>.</td>\n",
       "      <td>...</td>\n",
       "      <td>No</td>\n",
       "      <td>$0.25</td>\n",
       "      <td>PASS</td>\n",
       "    </tr>\n",
       "    <tr>\n",
       "      <th>...</th>\n",
       "      <td>...</td>\n",
       "      <td>...</td>\n",
       "      <td>...</td>\n",
       "      <td>...</td>\n",
       "      <td>...</td>\n",
       "      <td>...</td>\n",
       "      <td>...</td>\n",
       "    </tr>\n",
       "    <tr>\n",
       "      <th>48</th>\n",
       "      <td>19</td>\n",
       "      <td>10597451</td>\n",
       "      <td>.</td>\n",
       "      <td>...</td>\n",
       "      <td>No</td>\n",
       "      <td>$1.00</td>\n",
       "      <td>PASS</td>\n",
       "    </tr>\n",
       "    <tr>\n",
       "      <th>49</th>\n",
       "      <td>16</td>\n",
       "      <td>84115458</td>\n",
       "      <td>.</td>\n",
       "      <td>...</td>\n",
       "      <td>No</td>\n",
       "      <td>$1.00</td>\n",
       "      <td>PASS</td>\n",
       "    </tr>\n",
       "  </tbody>\n",
       "</table>\n",
       "<p>50 rows × 94 columns</p>\n",
       "</div>"
      ],
      "text/plain": [
       "   CHROM       POS ID  ...  In repetitive regions 75bp_mappability   IGV\n",
       "0     17  59545005  .  ...                     No            $1.00  PASS\n",
       "1      5  23527684  .  ...                     No            $0.25  PASS\n",
       "..   ...       ... ..  ...                    ...              ...   ...\n",
       "48    19  10597451  .  ...                     No            $1.00  PASS\n",
       "49    16  84115458  .  ...                     No            $1.00  PASS\n",
       "\n",
       "[50 rows x 94 columns]"
      ]
     },
     "execution_count": 75,
     "metadata": {},
     "output_type": "execute_result"
    }
   ],
   "source": [
    "SALES"
   ]
  },
  {
   "cell_type": "markdown",
   "metadata": {},
   "source": [
    "You can control how many decimal points of precision to display"
   ]
  },
  {
   "cell_type": "code",
   "execution_count": 76,
   "metadata": {
    "collapsed": true
   },
   "outputs": [],
   "source": [
    "pd.set_option('precision',2)"
   ]
  },
  {
   "cell_type": "code",
   "execution_count": 77,
   "metadata": {
    "collapsed": false
   },
   "outputs": [
    {
     "data": {
      "text/html": [
       "<div>\n",
       "<table border=\"1\" class=\"dataframe\">\n",
       "  <thead>\n",
       "    <tr style=\"text-align: right;\">\n",
       "      <th></th>\n",
       "      <th>CHROM</th>\n",
       "      <th>POS</th>\n",
       "      <th>ID</th>\n",
       "      <th>...</th>\n",
       "      <th>In repetitive regions</th>\n",
       "      <th>75bp_mappability</th>\n",
       "      <th>IGV</th>\n",
       "    </tr>\n",
       "  </thead>\n",
       "  <tbody>\n",
       "    <tr>\n",
       "      <th>0</th>\n",
       "      <td>17</td>\n",
       "      <td>59545005</td>\n",
       "      <td>.</td>\n",
       "      <td>...</td>\n",
       "      <td>No</td>\n",
       "      <td>$1.00</td>\n",
       "      <td>PASS</td>\n",
       "    </tr>\n",
       "    <tr>\n",
       "      <th>1</th>\n",
       "      <td>5</td>\n",
       "      <td>23527684</td>\n",
       "      <td>.</td>\n",
       "      <td>...</td>\n",
       "      <td>No</td>\n",
       "      <td>$0.25</td>\n",
       "      <td>PASS</td>\n",
       "    </tr>\n",
       "    <tr>\n",
       "      <th>...</th>\n",
       "      <td>...</td>\n",
       "      <td>...</td>\n",
       "      <td>...</td>\n",
       "      <td>...</td>\n",
       "      <td>...</td>\n",
       "      <td>...</td>\n",
       "      <td>...</td>\n",
       "    </tr>\n",
       "    <tr>\n",
       "      <th>48</th>\n",
       "      <td>19</td>\n",
       "      <td>10597451</td>\n",
       "      <td>.</td>\n",
       "      <td>...</td>\n",
       "      <td>No</td>\n",
       "      <td>$1.00</td>\n",
       "      <td>PASS</td>\n",
       "    </tr>\n",
       "    <tr>\n",
       "      <th>49</th>\n",
       "      <td>16</td>\n",
       "      <td>84115458</td>\n",
       "      <td>.</td>\n",
       "      <td>...</td>\n",
       "      <td>No</td>\n",
       "      <td>$1.00</td>\n",
       "      <td>PASS</td>\n",
       "    </tr>\n",
       "  </tbody>\n",
       "</table>\n",
       "<p>50 rows × 94 columns</p>\n",
       "</div>"
      ],
      "text/plain": [
       "   CHROM       POS ID  ...  In repetitive regions 75bp_mappability   IGV\n",
       "0     17  59545005  .  ...                     No            $1.00  PASS\n",
       "1      5  23527684  .  ...                     No            $0.25  PASS\n",
       "..   ...       ... ..  ...                    ...              ...   ...\n",
       "48    19  10597451  .  ...                     No            $1.00  PASS\n",
       "49    16  84115458  .  ...                     No            $1.00  PASS\n",
       "\n",
       "[50 rows x 94 columns]"
      ]
     },
     "execution_count": 77,
     "metadata": {},
     "output_type": "execute_result"
    }
   ],
   "source": [
    "SALES"
   ]
  },
  {
   "cell_type": "code",
   "execution_count": 78,
   "metadata": {
    "collapsed": true
   },
   "outputs": [],
   "source": [
    "pd.set_option('precision',7)"
   ]
  },
  {
   "cell_type": "code",
   "execution_count": 79,
   "metadata": {
    "collapsed": false
   },
   "outputs": [
    {
     "data": {
      "text/html": [
       "<div>\n",
       "<table border=\"1\" class=\"dataframe\">\n",
       "  <thead>\n",
       "    <tr style=\"text-align: right;\">\n",
       "      <th></th>\n",
       "      <th>CHROM</th>\n",
       "      <th>POS</th>\n",
       "      <th>ID</th>\n",
       "      <th>...</th>\n",
       "      <th>In repetitive regions</th>\n",
       "      <th>75bp_mappability</th>\n",
       "      <th>IGV</th>\n",
       "    </tr>\n",
       "  </thead>\n",
       "  <tbody>\n",
       "    <tr>\n",
       "      <th>0</th>\n",
       "      <td>17</td>\n",
       "      <td>59545005</td>\n",
       "      <td>.</td>\n",
       "      <td>...</td>\n",
       "      <td>No</td>\n",
       "      <td>$1.00</td>\n",
       "      <td>PASS</td>\n",
       "    </tr>\n",
       "    <tr>\n",
       "      <th>1</th>\n",
       "      <td>5</td>\n",
       "      <td>23527684</td>\n",
       "      <td>.</td>\n",
       "      <td>...</td>\n",
       "      <td>No</td>\n",
       "      <td>$0.25</td>\n",
       "      <td>PASS</td>\n",
       "    </tr>\n",
       "    <tr>\n",
       "      <th>...</th>\n",
       "      <td>...</td>\n",
       "      <td>...</td>\n",
       "      <td>...</td>\n",
       "      <td>...</td>\n",
       "      <td>...</td>\n",
       "      <td>...</td>\n",
       "      <td>...</td>\n",
       "    </tr>\n",
       "    <tr>\n",
       "      <th>48</th>\n",
       "      <td>19</td>\n",
       "      <td>10597451</td>\n",
       "      <td>.</td>\n",
       "      <td>...</td>\n",
       "      <td>No</td>\n",
       "      <td>$1.00</td>\n",
       "      <td>PASS</td>\n",
       "    </tr>\n",
       "    <tr>\n",
       "      <th>49</th>\n",
       "      <td>16</td>\n",
       "      <td>84115458</td>\n",
       "      <td>.</td>\n",
       "      <td>...</td>\n",
       "      <td>No</td>\n",
       "      <td>$1.00</td>\n",
       "      <td>PASS</td>\n",
       "    </tr>\n",
       "  </tbody>\n",
       "</table>\n",
       "<p>50 rows × 94 columns</p>\n",
       "</div>"
      ],
      "text/plain": [
       "   CHROM       POS ID  ...  In repetitive regions 75bp_mappability   IGV\n",
       "0     17  59545005  .  ...                     No            $1.00  PASS\n",
       "1      5  23527684  .  ...                     No            $0.25  PASS\n",
       "..   ...       ... ..  ...                    ...              ...   ...\n",
       "48    19  10597451  .  ...                     No            $1.00  PASS\n",
       "49    16  84115458  .  ...                     No            $1.00  PASS\n",
       "\n",
       "[50 rows x 94 columns]"
      ]
     },
     "execution_count": 79,
     "metadata": {},
     "output_type": "execute_result"
    }
   ],
   "source": [
    "SALES"
   ]
  },
  {
   "cell_type": "markdown",
   "metadata": {},
   "source": [
    "You can also format floating point numbers using float_format"
   ]
  },
  {
   "cell_type": "code",
   "execution_count": 80,
   "metadata": {
    "collapsed": true
   },
   "outputs": [],
   "source": [
    "pd.set_option('float_format', '{:.2f}'.format)"
   ]
  },
  {
   "cell_type": "code",
   "execution_count": 81,
   "metadata": {
    "collapsed": false
   },
   "outputs": [
    {
     "data": {
      "text/html": [
       "<div>\n",
       "<table border=\"1\" class=\"dataframe\">\n",
       "  <thead>\n",
       "    <tr style=\"text-align: right;\">\n",
       "      <th></th>\n",
       "      <th>CHROM</th>\n",
       "      <th>POS</th>\n",
       "      <th>ID</th>\n",
       "      <th>...</th>\n",
       "      <th>In repetitive regions</th>\n",
       "      <th>75bp_mappability</th>\n",
       "      <th>IGV</th>\n",
       "    </tr>\n",
       "  </thead>\n",
       "  <tbody>\n",
       "    <tr>\n",
       "      <th>0</th>\n",
       "      <td>17</td>\n",
       "      <td>59545005</td>\n",
       "      <td>.</td>\n",
       "      <td>...</td>\n",
       "      <td>No</td>\n",
       "      <td>1.00</td>\n",
       "      <td>PASS</td>\n",
       "    </tr>\n",
       "    <tr>\n",
       "      <th>1</th>\n",
       "      <td>5</td>\n",
       "      <td>23527684</td>\n",
       "      <td>.</td>\n",
       "      <td>...</td>\n",
       "      <td>No</td>\n",
       "      <td>0.25</td>\n",
       "      <td>PASS</td>\n",
       "    </tr>\n",
       "    <tr>\n",
       "      <th>...</th>\n",
       "      <td>...</td>\n",
       "      <td>...</td>\n",
       "      <td>...</td>\n",
       "      <td>...</td>\n",
       "      <td>...</td>\n",
       "      <td>...</td>\n",
       "      <td>...</td>\n",
       "    </tr>\n",
       "    <tr>\n",
       "      <th>48</th>\n",
       "      <td>19</td>\n",
       "      <td>10597451</td>\n",
       "      <td>.</td>\n",
       "      <td>...</td>\n",
       "      <td>No</td>\n",
       "      <td>1.00</td>\n",
       "      <td>PASS</td>\n",
       "    </tr>\n",
       "    <tr>\n",
       "      <th>49</th>\n",
       "      <td>16</td>\n",
       "      <td>84115458</td>\n",
       "      <td>.</td>\n",
       "      <td>...</td>\n",
       "      <td>No</td>\n",
       "      <td>1.00</td>\n",
       "      <td>PASS</td>\n",
       "    </tr>\n",
       "  </tbody>\n",
       "</table>\n",
       "<p>50 rows × 94 columns</p>\n",
       "</div>"
      ],
      "text/plain": [
       "   CHROM       POS ID  ...  In repetitive regions 75bp_mappability   IGV\n",
       "0     17  59545005  .  ...                     No             1.00  PASS\n",
       "1      5  23527684  .  ...                     No             0.25  PASS\n",
       "..   ...       ... ..  ...                    ...              ...   ...\n",
       "48    19  10597451  .  ...                     No             1.00  PASS\n",
       "49    16  84115458  .  ...                     No             1.00  PASS\n",
       "\n",
       "[50 rows x 94 columns]"
      ]
     },
     "execution_count": 81,
     "metadata": {},
     "output_type": "execute_result"
    }
   ],
   "source": [
    "SALES"
   ]
  },
  {
   "cell_type": "markdown",
   "metadata": {},
   "source": [
    "This does apply to all the data. In our example, applying dollar signs to everything would not be correct for this example."
   ]
  },
  {
   "cell_type": "code",
   "execution_count": 82,
   "metadata": {
    "collapsed": true
   },
   "outputs": [],
   "source": [
    "pd.set_option('float_format', '${:.2f}'.format)"
   ]
  },
  {
   "cell_type": "code",
   "execution_count": 83,
   "metadata": {
    "collapsed": false
   },
   "outputs": [
    {
     "data": {
      "text/html": [
       "<div>\n",
       "<table border=\"1\" class=\"dataframe\">\n",
       "  <thead>\n",
       "    <tr style=\"text-align: right;\">\n",
       "      <th></th>\n",
       "      <th>CHROM</th>\n",
       "      <th>POS</th>\n",
       "      <th>ID</th>\n",
       "      <th>...</th>\n",
       "      <th>In repetitive regions</th>\n",
       "      <th>75bp_mappability</th>\n",
       "      <th>IGV</th>\n",
       "    </tr>\n",
       "  </thead>\n",
       "  <tbody>\n",
       "    <tr>\n",
       "      <th>0</th>\n",
       "      <td>17</td>\n",
       "      <td>59545005</td>\n",
       "      <td>.</td>\n",
       "      <td>...</td>\n",
       "      <td>No</td>\n",
       "      <td>$1.00</td>\n",
       "      <td>PASS</td>\n",
       "    </tr>\n",
       "    <tr>\n",
       "      <th>1</th>\n",
       "      <td>5</td>\n",
       "      <td>23527684</td>\n",
       "      <td>.</td>\n",
       "      <td>...</td>\n",
       "      <td>No</td>\n",
       "      <td>$0.25</td>\n",
       "      <td>PASS</td>\n",
       "    </tr>\n",
       "    <tr>\n",
       "      <th>...</th>\n",
       "      <td>...</td>\n",
       "      <td>...</td>\n",
       "      <td>...</td>\n",
       "      <td>...</td>\n",
       "      <td>...</td>\n",
       "      <td>...</td>\n",
       "      <td>...</td>\n",
       "    </tr>\n",
       "    <tr>\n",
       "      <th>48</th>\n",
       "      <td>19</td>\n",
       "      <td>10597451</td>\n",
       "      <td>.</td>\n",
       "      <td>...</td>\n",
       "      <td>No</td>\n",
       "      <td>$1.00</td>\n",
       "      <td>PASS</td>\n",
       "    </tr>\n",
       "    <tr>\n",
       "      <th>49</th>\n",
       "      <td>16</td>\n",
       "      <td>84115458</td>\n",
       "      <td>.</td>\n",
       "      <td>...</td>\n",
       "      <td>No</td>\n",
       "      <td>$1.00</td>\n",
       "      <td>PASS</td>\n",
       "    </tr>\n",
       "  </tbody>\n",
       "</table>\n",
       "<p>50 rows × 94 columns</p>\n",
       "</div>"
      ],
      "text/plain": [
       "   CHROM       POS ID  ...  In repetitive regions 75bp_mappability   IGV\n",
       "0     17  59545005  .  ...                     No            $1.00  PASS\n",
       "1      5  23527684  .  ...                     No            $0.25  PASS\n",
       "..   ...       ... ..  ...                    ...              ...   ...\n",
       "48    19  10597451  .  ...                     No            $1.00  PASS\n",
       "49    16  84115458  .  ...                     No            $1.00  PASS\n",
       "\n",
       "[50 rows x 94 columns]"
      ]
     },
     "execution_count": 83,
     "metadata": {},
     "output_type": "execute_result"
    }
   ],
   "source": [
    "SALES"
   ]
  },
  {
   "cell_type": "markdown",
   "metadata": {},
   "source": [
    "## Third Party Plugins"
   ]
  },
  {
   "cell_type": "markdown",
   "metadata": {},
   "source": [
    "Qtopian has a useful plugin called qgrid - https://github.com/quantopian/qgrid\n",
    "\n",
    "Import it and install it."
   ]
  },
  {
   "cell_type": "code",
   "execution_count": 4,
   "metadata": {
    "collapsed": false
   },
   "outputs": [],
   "source": [
    "import qgrid\n",
    "qgrid.nbinstall()"
   ]
  },
  {
   "cell_type": "markdown",
   "metadata": {},
   "source": [
    "Showing the data is straighforward."
   ]
  },
  {
   "cell_type": "code",
   "execution_count": 5,
   "metadata": {
    "collapsed": false
   },
   "outputs": [],
   "source": [
    "qgrid.show_grid(SALES, remote_js=True,grid_options={'forceFitColumns': False, 'defaultColumnWidth': 100})"
   ]
  },
  {
   "cell_type": "code",
   "execution_count": null,
   "metadata": {
    "collapsed": true
   },
   "outputs": [],
   "source": []
  }
 ],
 "metadata": {
  "celltoolbar": "Slideshow",
  "hide_input": false,
  "kernelspec": {
   "display_name": "Python 2",
   "language": "python",
   "name": "python2"
  },
  "language_info": {
   "codemirror_mode": {
    "name": "ipython",
    "version": 2
   },
   "file_extension": ".py",
   "mimetype": "text/x-python",
   "name": "python",
   "nbconvert_exporter": "python",
   "pygments_lexer": "ipython2",
   "version": "2.7.11"
  },
  "toc": {
   "toc_cell": true,
   "toc_number_sections": false,
   "toc_threshold": 6,
   "toc_window_display": true
  }
 },
 "nbformat": 4,
 "nbformat_minor": 0
}
