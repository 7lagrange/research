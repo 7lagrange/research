{
 "cells": [
  {
   "cell_type": "markdown",
   "metadata": {
    "toc": "true"
   },
   "source": [
    "# Table of Contents\n",
    " <p><div class=\"lev1\"><a href=\"#PAH-burden-analysis-summary\">PAH burden analysis summary</a></div>"
   ]
  },
  {
   "cell_type": "markdown",
   "metadata": {},
   "source": [
    "# PAH burden analysis summary\n",
    "\n",
    "   - Cases: There are 227 samples, contains 55 trios, 2 trios have low relativeness(JM0015 and JM0018)  \n",
    "\n",
    "   - ontrols: 1911 unaffected silbing from Iossifov 2014  "
   ]
  },
  {
   "cell_type": "code",
   "execution_count": 1,
   "metadata": {
    "collapsed": true
   },
   "outputs": [],
   "source": [
    "import pandas as pd\n",
    "import numpy as np\n",
    "from IPython.display import display, HTML\n",
    "from pretty_table import *"
   ]
  },
  {
   "cell_type": "code",
   "execution_count": 2,
   "metadata": {
    "collapsed": false
   },
   "outputs": [
    {
     "data": {
      "text/html": [
       "<table style=\"\"><tr style=\"\"><td style=\"\">f</td><td style=\"\">x</td><td style=\"\">y</td><td style=\"\">z</td></tr><tr style=\"\"><td style=\"\">0.023432</td><td style=\"\">1</td><td style=\"\">6</td><td style=\"\">testing</td></tr><tr style=\"\"><td style=\"\">0.234321</td><td style=\"\">2</td><td style=\"\">4</td><td style=\"\">pretty</td></tr><tr style=\"\"><td style=\"\">0.5555</td><td style=\"\">3</td><td style=\"\">3</td><td style=\"\">tables</td></tr></table>"
      ],
      "text/plain": [
       "<pretty_table.PrettyTable at 0x10386b150>"
      ]
     },
     "execution_count": 2,
     "metadata": {},
     "output_type": "execute_result"
    }
   ],
   "source": [
    "df = pd.DataFrame({\"x\":[1,2,3], \"y\":[6,4,3], \"z\":[\"testing\",\"pretty\",\"tables\"], \"f\":[0.023432, 0.234321,0.5555]})\n",
    "pt = PrettyTable(df)\n",
    "pt\n"
   ]
  },
  {
   "cell_type": "code",
   "execution_count": 3,
   "metadata": {
    "collapsed": false
   },
   "outputs": [
    {
     "data": {
      "text/html": [
       "<center><table style=\"color: black;border: 1px solid black;\"><tr style=\"color: black;border: 1px solid black;\"><td style=\"color: black;font-weight: bold;background-color: lightgray;\">f</td><td style=\"color: black;font-weight: bold;background-color: lightgray;\">x</td><td style=\"color: black;font-weight: bold;background-color: lightgray;\">y</td><td style=\"color: black;font-weight: bold;background-color: lightgray;\">z</td></tr><tr style=\"color: black;border: 1px solid black;\"><td style=\"color: black;border: 1px solid black;\">0.023432</td><td style=\"color: black;border: 1px solid black;\">1</td><td style=\"color: black;border: 1px solid black;\">6</td><td style=\"color: black;border: 1px solid black;\">testing</td></tr><tr style=\"color: black;border: 1px solid black;\"><td style=\"color: black;border: 1px solid black;\">0.234321</td><td style=\"color: black;border: 1px solid black;\">2</td><td style=\"color: black;border: 1px solid black;\">4</td><td style=\"color: black;border: 1px solid black;\">pretty</td></tr><tr style=\"color: black;border: 1px solid black;\"><td style=\"color: black;border: 1px solid black;\">0.5555</td><td style=\"color: black;border: 1px solid black;\">3</td><td style=\"color: black;border: 1px solid black;\">3</td><td style=\"color: black;border: 1px solid black;\">tables</td></tr></table></center>"
      ],
      "text/plain": [
       "<pretty_table.PrettyTable at 0x111410910>"
      ]
     },
     "execution_count": 3,
     "metadata": {},
     "output_type": "execute_result"
    }
   ],
   "source": [
    "pt = PrettyTable(df, tstyle=TableStyle(theme=\"theme1\"), center=True)\n",
    "pt"
   ]
  },
  {
   "cell_type": "code",
   "execution_count": 4,
   "metadata": {
    "collapsed": true
   },
   "outputs": [],
   "source": [
    "#https://github.com/HHammond/PrettyPandas\n",
    "#http://melissagymrek.com/python/2014/01/12/ipython-tables.html\n",
    "#http://nbviewer.jupyter.org/gist/chris1610/f2f4a2e9181f6ec22e88\n",
    "#http://nbviewer.jupyter.org/github/pydata/pandas/blob/master/doc/source/html-styling.ipynb\n",
    "pd.set_option('float_format', '{:.2f}'.format)"
   ]
  },
  {
   "cell_type": "code",
   "execution_count": null,
   "metadata": {
    "collapsed": true
   },
   "outputs": [],
   "source": []
  },
  {
   "cell_type": "code",
   "execution_count": 5,
   "metadata": {
    "collapsed": true
   },
   "outputs": [],
   "source": [
    "CSS = \"\"\"\n",
    "\n",
    "table\n",
    "{ \n",
    "float:right;\n",
    "margin:auto;\n",
    "}\n",
    "\n",
    "body {\n",
    "    margin: auto;\n",
    "    font-family: Helvetica;\n",
    "\n",
    "}\n",
    "table.dataframe {\n",
    "    margin: auto;\n",
    "    border-collapse: collapse;\n",
    "    border: none;\n",
    "    font-size:200%;\n",
    "}\n",
    "table.dataframe tr {\n",
    "    border: none;\n",
    "}\n",
    "table.dataframe td, table.dataframe th {\n",
    "    margin: auto;\n",
    "    border: 1px solid white;\n",
    "    padding-left: 0.25em;\n",
    "    padding-top: 0.25em;\n",
    "    padding-bottom: 0.25em;\n",
    "    padding-right: 0.25em;\n",
    "}\n",
    "table.dataframe th:not(:empty) {\n",
    "    background-color: #fec;\n",
    "    text-align: center;\n",
    "    font-weight: normal;\n",
    "}\n",
    "table.dataframe tr:nth-child(2) th:empty {\n",
    "    border-left: none;\n",
    "    border-right: 1px dashed #888;\n",
    "}\n",
    "table.dataframe td {\n",
    "    border: 1px solid #ccf;\n",
    "    background-color: #f4f4ff;\n",
    "}\n",
    "div.output_area pre {\n",
    "font-family: Helvetica;\n",
    "font-size: 100%;\n",
    "}\n",
    "\"\"\"\n",
    "#CSS ='<center>{0}</center>'.format(CSS)"
   ]
  },
  {
   "cell_type": "code",
   "execution_count": 6,
   "metadata": {
    "collapsed": false
   },
   "outputs": [
    {
     "data": {
      "text/html": [
       "<style>\n",
       "\n",
       "table\n",
       "{ \n",
       "float:right;\n",
       "margin:auto;\n",
       "}\n",
       "\n",
       "body {\n",
       "    margin: auto;\n",
       "    font-family: Helvetica;\n",
       "\n",
       "}\n",
       "table.dataframe {\n",
       "    margin: auto;\n",
       "    border-collapse: collapse;\n",
       "    border: none;\n",
       "    font-size:200%;\n",
       "}\n",
       "table.dataframe tr {\n",
       "    border: none;\n",
       "}\n",
       "table.dataframe td, table.dataframe th {\n",
       "    margin: auto;\n",
       "    border: 1px solid white;\n",
       "    padding-left: 0.25em;\n",
       "    padding-top: 0.25em;\n",
       "    padding-bottom: 0.25em;\n",
       "    padding-right: 0.25em;\n",
       "}\n",
       "table.dataframe th:not(:empty) {\n",
       "    background-color: #fec;\n",
       "    text-align: center;\n",
       "    font-weight: normal;\n",
       "}\n",
       "table.dataframe tr:nth-child(2) th:empty {\n",
       "    border-left: none;\n",
       "    border-right: 1px dashed #888;\n",
       "}\n",
       "table.dataframe td {\n",
       "    border: 1px solid #ccf;\n",
       "    background-color: #f4f4ff;\n",
       "}\n",
       "div.output_area pre {\n",
       "font-family: Helvetica;\n",
       "font-size: 100%;\n",
       "}\n",
       "</style>"
      ],
      "text/plain": [
       "<IPython.core.display.HTML object>"
      ]
     },
     "execution_count": 6,
     "metadata": {},
     "output_type": "execute_result"
    }
   ],
   "source": [
    "from IPython.core.display import HTML\n",
    "HTML('<style>{}</style>'.format(CSS))"
   ]
  },
  {
   "cell_type": "code",
   "execution_count": null,
   "metadata": {
    "collapsed": false
   },
   "outputs": [],
   "source": []
  },
  {
   "cell_type": "code",
   "execution_count": 7,
   "metadata": {
    "collapsed": false
   },
   "outputs": [
    {
     "name": "stdout",
     "output_type": "stream",
     "text": [
      "             gggggg\n"
     ]
    },
    {
     "data": {
      "text/html": [
       "<div>\n",
       "<table border=\"1\" class=\"dataframe\">\n",
       "  <thead>\n",
       "    <tr style=\"text-align: right;\">\n",
       "      <th></th>\n",
       "      <th>lib</th>\n",
       "      <th>qty1</th>\n",
       "      <th>qty2</th>\n",
       "    </tr>\n",
       "  </thead>\n",
       "  <tbody>\n",
       "    <tr>\n",
       "      <th>aaa</th>\n",
       "      <td>1.00</td>\n",
       "      <td>2.00</td>\n",
       "      <td>3.00</td>\n",
       "    </tr>\n",
       "    <tr>\n",
       "      <th>bbb</th>\n",
       "      <td>0.10</td>\n",
       "      <td>0.00</td>\n",
       "      <td>0.00</td>\n",
       "    </tr>\n",
       "  </tbody>\n",
       "</table>\n",
       "</div>"
      ],
      "text/plain": [
       "     lib  qty1  qty2\n",
       "aaa 1.00  2.00  3.00\n",
       "bbb 0.10  0.00  0.00"
      ]
     },
     "metadata": {},
     "output_type": "display_data"
    }
   ],
   "source": [
    "pd.set_option('display.width', 250)\n",
    "pd.set_option('display.precision', 3)\n",
    "df = pd.DataFrame(np.array([[1,2,3],[0.1,0.001,0.00001]]), index=('aaa','bbb'),columns=('lib', 'qty1', 'qty2'))\n",
    "print '             gggggg'\n",
    "display(df)\n"
   ]
  },
  {
   "cell_type": "code",
   "execution_count": 10,
   "metadata": {
    "collapsed": false
   },
   "outputs": [
    {
     "data": {
      "text/html": [
       "<center><table style=\"color: black;border: 1px solid black;\"><tr style=\"color: black;border: 1px solid black;\"><td style=\"color: black;font-weight: bold;background-color: lightgray;\">lib</td><td style=\"color: black;font-weight: bold;background-color: lightgray;\">qty1</td><td style=\"color: black;font-weight: bold;background-color: lightgray;\">qty2</td></tr><tr style=\"color: black;border: 1px solid black;\"><td style=\"color: black;border: 1px solid black;\">1.0</td><td style=\"color: black;border: 1px solid black;\">2.0</td><td style=\"color: black;border: 1px solid black;\">3.0</td></tr><tr style=\"color: black;border: 1px solid black;\"><td style=\"color: black;border: 1px solid black;\">0.1</td><td style=\"color: black;border: 1px solid black;\">0.001</td><td style=\"color: black;border: 1px solid black;\">1e-05</td></tr></table></center>"
      ],
      "text/plain": [
       "<pretty_table.PrettyTable at 0x11180d990>"
      ]
     },
     "execution_count": 10,
     "metadata": {},
     "output_type": "execute_result"
    }
   ],
   "source": [
    "pt = PrettyTable(df, tstyle=TableStyle(theme=\"theme1\"), center=True)\n",
    "pt"
   ]
  }
 ],
 "metadata": {
  "hide_input": false,
  "kernelspec": {
   "display_name": "Python 2",
   "language": "python",
   "name": "python2"
  },
  "language_info": {
   "codemirror_mode": {
    "name": "ipython",
    "version": 2
   },
   "file_extension": ".py",
   "mimetype": "text/x-python",
   "name": "python",
   "nbconvert_exporter": "python",
   "pygments_lexer": "ipython2",
   "version": "2.7.11"
  },
  "toc": {
   "toc_cell": true,
   "toc_number_sections": false,
   "toc_threshold": 6,
   "toc_window_display": true
  }
 },
 "nbformat": 4,
 "nbformat_minor": 0
}
