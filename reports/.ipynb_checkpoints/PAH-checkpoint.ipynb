{
 "cells": [
  {
   "cell_type": "markdown",
   "metadata": {
<<<<<<< HEAD
    "slideshow": {
     "slide_type": "slide"
    },
=======
>>>>>>> origin/master
    "toc": "true"
   },
   "source": [
    "# Table of Contents\n",
<<<<<<< HEAD
    " <p><div class=\"lev1\"><a href=\"#PAH-burden-analysis-summary\">PAH burden analysis summary</a></div><div class=\"lev1\"><a href=\"#Enrichment-details\">Enrichment details</a></div>"
=======
    " <p><div class=\"lev1\"><a href=\"#PAH-burden-analysis-summary\">PAH burden analysis summary</a></div>"
   ]
  },
  {
   "cell_type": "markdown",
   "metadata": {},
   "source": [
    "# PAH burden analysis summary\n",
    "\n",
    "   - Cases: There are 227 samples, contains 55 trios, 2 trios have low relativeness(JM0015 and JM0018)  \n",
    "\n",
    "   - ontrols: 1911 unaffected silbing from Iossifov 2014  "
>>>>>>> origin/master
   ]
  },
  {
   "cell_type": "code",
   "execution_count": 1,
   "metadata": {
<<<<<<< HEAD
    "collapsed": false
   },
   "outputs": [],
   "source": [
    "from __future__ import division\n",
    "import pandas as pd\n",
    "import numpy as np\n",
    "from IPython.display import display, HTML\n",
    "\n",
    "\n",
    "import sys\n",
    "DROPBOX='/Users/hongjian/Dropbox (CGC)/'\n",
    "sys.path.append(DROPBOX+'analysis/info/')\n",
    "sys.path.append(DROPBOX+'analysis/utilities/')\n",
    "from info import *\n",
    "from utilities import *\n",
    "\n",
    "pd.set_option('display.precision', 3)"
=======
    "collapsed": true
   },
   "outputs": [],
   "source": [
    "import pandas as pd\n",
    "import numpy as np\n",
    "from IPython.display import display, HTML\n",
    "from pretty_table import *"
>>>>>>> origin/master
   ]
  },
  {
   "cell_type": "code",
   "execution_count": 2,
   "metadata": {
    "collapsed": false
   },
<<<<<<< HEAD
   "outputs": [],
   "source": [
    "Project = DROPBOX + 'Projects/PAH/'\n",
    "with open(Project + 'pedigree/PAH_trios.txt','r') as f:\n",
    "    trios = set( sample.strip() for sample in f.readlines())\n",
    "with open(Project + 'pedigree/exclude_by_predict.txt','r') as f:\n",
    "    exclude = set( sample.strip() for sample in f.readlines())\n",
    "    \n",
    "case_file = [ Project + 'variants0403/add_igv.csv' ]\n",
    "case_sample = trios - exclude\n",
    "case_size = len(case_sample)\n",
    "\n",
    "control_file = [DROPBOX + 'Projects/SSC/control_1911.csv' ]\n",
    "control_size = 1911\n",
    "not_included = set()"
   ]
  },
  {
   "cell_type": "markdown",
   "metadata": {
    "variables": {
     "len(exclude)": "2",
     "len(trios)": "55"
    }
   },
   "source": [
    "# PAH samples summary\n",
    "\n",
    "   - Cases: There are 227 samples, contains 55 trios, 2 trios have low relativeness(JM0015 and JM0018)  \n",
    "\n",
    "   - Controls: 1911 unaffected silbing from Iossifov 2014  \n"
=======
   "outputs": [
    {
     "data": {
      "text/html": [
       "<table style=\"\"><tr style=\"\"><td style=\"\">f</td><td style=\"\">x</td><td style=\"\">y</td><td style=\"\">z</td></tr><tr style=\"\"><td style=\"\">0.023432</td><td style=\"\">1</td><td style=\"\">6</td><td style=\"\">testing</td></tr><tr style=\"\"><td style=\"\">0.234321</td><td style=\"\">2</td><td style=\"\">4</td><td style=\"\">pretty</td></tr><tr style=\"\"><td style=\"\">0.5555</td><td style=\"\">3</td><td style=\"\">3</td><td style=\"\">tables</td></tr></table>"
      ],
      "text/plain": [
       "<pretty_table.PrettyTable at 0x10386b150>"
      ]
     },
     "execution_count": 2,
     "metadata": {},
     "output_type": "execute_result"
    }
   ],
   "source": [
    "df = pd.DataFrame({\"x\":[1,2,3], \"y\":[6,4,3], \"z\":[\"testing\",\"pretty\",\"tables\"], \"f\":[0.023432, 0.234321,0.5555]})\n",
    "pt = PrettyTable(df)\n",
    "pt\n"
>>>>>>> origin/master
   ]
  },
  {
   "cell_type": "code",
<<<<<<< HEAD
   "execution_count": null,
   "metadata": {
    "collapsed": true
   },
   "outputs": [],
   "source": [
    "# recurrent damage gene"
=======
   "execution_count": 3,
   "metadata": {
    "collapsed": false
   },
   "outputs": [
    {
     "data": {
      "text/html": [
       "<center><table style=\"color: black;border: 1px solid black;\"><tr style=\"color: black;border: 1px solid black;\"><td style=\"color: black;font-weight: bold;background-color: lightgray;\">f</td><td style=\"color: black;font-weight: bold;background-color: lightgray;\">x</td><td style=\"color: black;font-weight: bold;background-color: lightgray;\">y</td><td style=\"color: black;font-weight: bold;background-color: lightgray;\">z</td></tr><tr style=\"color: black;border: 1px solid black;\"><td style=\"color: black;border: 1px solid black;\">0.023432</td><td style=\"color: black;border: 1px solid black;\">1</td><td style=\"color: black;border: 1px solid black;\">6</td><td style=\"color: black;border: 1px solid black;\">testing</td></tr><tr style=\"color: black;border: 1px solid black;\"><td style=\"color: black;border: 1px solid black;\">0.234321</td><td style=\"color: black;border: 1px solid black;\">2</td><td style=\"color: black;border: 1px solid black;\">4</td><td style=\"color: black;border: 1px solid black;\">pretty</td></tr><tr style=\"color: black;border: 1px solid black;\"><td style=\"color: black;border: 1px solid black;\">0.5555</td><td style=\"color: black;border: 1px solid black;\">3</td><td style=\"color: black;border: 1px solid black;\">3</td><td style=\"color: black;border: 1px solid black;\">tables</td></tr></table></center>"
      ],
      "text/plain": [
       "<pretty_table.PrettyTable at 0x111410910>"
      ]
     },
     "execution_count": 3,
     "metadata": {},
     "output_type": "execute_result"
    }
   ],
   "source": [
    "pt = PrettyTable(df, tstyle=TableStyle(theme=\"theme1\"), center=True)\n",
    "pt"
>>>>>>> origin/master
   ]
  },
  {
   "cell_type": "code",
<<<<<<< HEAD
   "execution_count": null,
=======
   "execution_count": 4,
>>>>>>> origin/master
   "metadata": {
    "collapsed": true
   },
   "outputs": [],
   "source": [
<<<<<<< HEAD
    "# PAH burden analysis summary\n",
    "   - Dmis: Damage by metaSVM, pd_mis: T by metaSVM, D by pp2 and CADD > 15\n",
    "   - pli score using ExAC excluding TCGA"
   ]
  },
  {
   "cell_type": "code",
   "execution_count": 3,
   "metadata": {
    "collapsed": false
   },
   "outputs": [],
   "source": [
    "geneset = All_gene \n",
    "# case part \n",
    "case_counts =  count_mutations(case_file, geneset, not_included, case_sample)\n",
    "# control part \n",
    "control_counts =  count_mutations(control_file, geneset, not_included)\n",
    "df_allgene = get_pandas_table(case_counts, case_size, control_counts, control_size)\n",
    "df_allgene.index.name = 'All gene:'+str(len(geneset))\n",
    "\n",
    "geneset = HHE\n",
    "# case part \n",
    "case_counts =  count_mutations(case_file, geneset, not_included, case_sample)\n",
    "# control part \n",
    "control_counts =  count_mutations(control_file, geneset, not_included)\n",
    "df_HHEgene = get_pandas_table(case_counts, case_size, control_counts, control_size)\n",
    "df_HHEgene.index.name = 'HHE gene:'+str(len(geneset))\n",
    "\n",
    "with open(Project + 'gene_of_interest.txt') as f:\n",
    "    geneset = set(gene.strip() for gene in f.readlines())\n",
    "# case part \n",
    "case_counts =  count_mutations(case_file, geneset, not_included, case_sample)\n",
    "# control part \n",
    "control_counts =  count_mutations(control_file, geneset, not_included)\n",
    "df_interest = get_pandas_table(case_counts, case_size, control_counts, control_size)\n",
    "df_interest.index.name = 'gene_of_interest:'+str(len(geneset))\n",
    "\n",
    "\n",
    "geneset = set(gene for gene, pli_score in PLI.iteritems() if pli_score >= 0.9)\n",
    "# case part \n",
    "case_counts =  count_mutations(case_file, geneset, not_included, case_sample)\n",
    "# control part \n",
    "control_counts =  count_mutations(control_file, geneset, not_included)\n",
    "df_pli = get_pandas_table(case_counts, case_size, control_counts, control_size)\n",
    "df_pli.index.name = 'pLI>=0.9:'+str(len(geneset))\n"
=======
    "#https://github.com/HHammond/PrettyPandas\n",
    "#http://melissagymrek.com/python/2014/01/12/ipython-tables.html\n",
    "#http://nbviewer.jupyter.org/gist/chris1610/f2f4a2e9181f6ec22e88\n",
    "#http://nbviewer.jupyter.org/github/pydata/pandas/blob/master/doc/source/html-styling.ipynb\n",
    "pd.set_option('float_format', '{:.2f}'.format)"
>>>>>>> origin/master
   ]
  },
  {
   "cell_type": "code",
   "execution_count": null,
   "metadata": {
    "collapsed": true
   },
   "outputs": [],
   "source": []
  },
  {
<<<<<<< HEAD
   "cell_type": "markdown",
   "metadata": {},
   "source": []
  },
  {
   "cell_type": "markdown",
   "metadata": {
    "slideshow": {
     "slide_type": "slide"
    }
   },
   "source": [
    "# Enrichment details"
   ]
  },
  {
   "cell_type": "code",
   "execution_count": 7,
   "metadata": {
    "collapsed": false
   },
   "outputs": [
    {
     "data": {
      "text/html": [
       "<div>\n",
       "<table border=\"1\" class=\"dataframe\">\n",
       "  <thead>\n",
       "    <tr style=\"text-align: right;\">\n",
       "      <th></th>\n",
       "      <th>Case:53</th>\n",
       "      <th>Control:1911</th>\n",
       "      <th>Enrichment</th>\n",
       "      <th>Pvalue</th>\n",
       "      <th># risk genes</th>\n",
       "    </tr>\n",
       "    <tr>\n",
       "      <th>All gene:18864</th>\n",
       "      <th></th>\n",
       "      <th></th>\n",
       "      <th></th>\n",
       "      <th></th>\n",
       "      <th></th>\n",
       "    </tr>\n",
       "  </thead>\n",
       "  <tbody>\n",
       "    <tr>\n",
       "      <th>protein</th>\n",
       "      <td>44</td>\n",
       "      <td>1332</td>\n",
       "      <td>1.19</td>\n",
       "      <td>0.244</td>\n",
       "      <td>7.06</td>\n",
       "    </tr>\n",
       "    <tr>\n",
       "      <th>LGD</th>\n",
       "      <td>9</td>\n",
       "      <td>178</td>\n",
       "      <td>1.82</td>\n",
       "      <td>0.106</td>\n",
       "      <td>4.06</td>\n",
       "    </tr>\n",
       "    <tr>\n",
       "      <th>frameshift</th>\n",
       "      <td>4</td>\n",
       "      <td>90</td>\n",
       "      <td>1.6</td>\n",
       "      <td>0.325</td>\n",
       "      <td>1.5</td>\n",
       "    </tr>\n",
       "    <tr>\n",
       "      <th>stop</th>\n",
       "      <td>5</td>\n",
       "      <td>64</td>\n",
       "      <td>2.82</td>\n",
       "      <td>0.0388</td>\n",
       "      <td>3.23</td>\n",
       "    </tr>\n",
       "    <tr>\n",
       "      <th>splicing</th>\n",
       "      <td>0</td>\n",
       "      <td>24</td>\n",
       "      <td>0</td>\n",
       "      <td>1</td>\n",
       "      <td>-0.666</td>\n",
       "    </tr>\n",
       "    <tr>\n",
       "      <th>inframe</th>\n",
       "      <td>1</td>\n",
       "      <td>30</td>\n",
       "      <td>1.2</td>\n",
       "      <td>0.572</td>\n",
       "      <td>0.168</td>\n",
       "    </tr>\n",
       "    <tr>\n",
       "      <th>MIS</th>\n",
       "      <td>34</td>\n",
       "      <td>1124</td>\n",
       "      <td>1.09</td>\n",
       "      <td>0.586</td>\n",
       "      <td>2.83</td>\n",
       "    </tr>\n",
       "    <tr>\n",
       "      <th>DMIS_metaSVM</th>\n",
       "      <td>10</td>\n",
       "      <td>215</td>\n",
       "      <td>1.68</td>\n",
       "      <td>0.143</td>\n",
       "      <td>4.04</td>\n",
       "    </tr>\n",
       "    <tr>\n",
       "      <th>LGD_dmis</th>\n",
       "      <td>19</td>\n",
       "      <td>393</td>\n",
       "      <td>1.74</td>\n",
       "      <td>0.0222</td>\n",
       "      <td>8.1</td>\n",
       "    </tr>\n",
       "    <tr>\n",
       "      <th>pd_mis</th>\n",
       "      <td>5</td>\n",
       "      <td>282</td>\n",
       "      <td>0.639</td>\n",
       "      <td>0.462</td>\n",
       "      <td>-2.82</td>\n",
       "    </tr>\n",
       "    <tr>\n",
       "      <th>silent</th>\n",
       "      <td>20</td>\n",
       "      <td>483</td>\n",
       "      <td>1.49</td>\n",
       "      <td>0.0958</td>\n",
       "      <td>6.6</td>\n",
       "    </tr>\n",
       "  </tbody>\n",
       "</table>\n",
       "</div>"
      ],
      "text/plain": [
       "               Case:53 Control:1911 Enrichment  Pvalue # risk genes\n",
       "All gene:18864                                                     \n",
       "protein             44         1332       1.19   0.244         7.06\n",
       "LGD                  9          178       1.82   0.106         4.06\n",
       "frameshift           4           90        1.6   0.325          1.5\n",
       "stop                 5           64       2.82  0.0388         3.23\n",
       "splicing             0           24          0       1       -0.666\n",
       "inframe              1           30        1.2   0.572        0.168\n",
       "MIS                 34         1124       1.09   0.586         2.83\n",
       "DMIS_metaSVM        10          215       1.68   0.143         4.04\n",
       "LGD_dmis            19          393       1.74  0.0222          8.1\n",
       "pd_mis               5          282      0.639   0.462        -2.82\n",
       "silent              20          483       1.49  0.0958          6.6"
      ]
     },
     "metadata": {},
     "output_type": "display_data"
    },
    {
     "data": {
      "text/html": [
       "<div>\n",
       "<table border=\"1\" class=\"dataframe\">\n",
       "  <thead>\n",
       "    <tr style=\"text-align: right;\">\n",
       "      <th></th>\n",
       "      <th>Case:53</th>\n",
       "      <th>Control:1911</th>\n",
       "      <th>Enrichment</th>\n",
       "      <th>Pvalue</th>\n",
       "      <th># risk genes</th>\n",
       "    </tr>\n",
       "    <tr>\n",
       "      <th>gene_of_interest:30</th>\n",
       "      <th></th>\n",
       "      <th></th>\n",
       "      <th></th>\n",
       "      <th></th>\n",
       "      <th></th>\n",
       "    </tr>\n",
       "  </thead>\n",
       "  <tbody>\n",
       "    <tr>\n",
       "      <th>protein</th>\n",
       "      <td>6</td>\n",
       "      <td>0</td>\n",
       "      <td>0</td>\n",
       "      <td>1</td>\n",
       "      <td>6</td>\n",
       "    </tr>\n",
       "    <tr>\n",
       "      <th>LGD</th>\n",
       "      <td>2</td>\n",
       "      <td>0</td>\n",
       "      <td>0</td>\n",
       "      <td>1</td>\n",
       "      <td>2</td>\n",
       "    </tr>\n",
       "    <tr>\n",
       "      <th>frameshift</th>\n",
       "      <td>1</td>\n",
       "      <td>0</td>\n",
       "      <td>0</td>\n",
       "      <td>1</td>\n",
       "      <td>1</td>\n",
       "    </tr>\n",
       "    <tr>\n",
       "      <th>stop</th>\n",
       "      <td>1</td>\n",
       "      <td>0</td>\n",
       "      <td>0</td>\n",
       "      <td>1</td>\n",
       "      <td>1</td>\n",
       "    </tr>\n",
       "    <tr>\n",
       "      <th>splicing</th>\n",
       "      <td>0</td>\n",
       "      <td>0</td>\n",
       "      <td>0</td>\n",
       "      <td>1</td>\n",
       "      <td>0</td>\n",
       "    </tr>\n",
       "    <tr>\n",
       "      <th>inframe</th>\n",
       "      <td>0</td>\n",
       "      <td>0</td>\n",
       "      <td>0</td>\n",
       "      <td>1</td>\n",
       "      <td>0</td>\n",
       "    </tr>\n",
       "    <tr>\n",
       "      <th>MIS</th>\n",
       "      <td>4</td>\n",
       "      <td>0</td>\n",
       "      <td>0</td>\n",
       "      <td>1</td>\n",
       "      <td>4</td>\n",
       "    </tr>\n",
       "    <tr>\n",
       "      <th>DMIS_metaSVM</th>\n",
       "      <td>4</td>\n",
       "      <td>0</td>\n",
       "      <td>0</td>\n",
       "      <td>1</td>\n",
       "      <td>4</td>\n",
       "    </tr>\n",
       "    <tr>\n",
       "      <th>LGD_dmis</th>\n",
       "      <td>6</td>\n",
       "      <td>0</td>\n",
       "      <td>0</td>\n",
       "      <td>1</td>\n",
       "      <td>6</td>\n",
       "    </tr>\n",
       "    <tr>\n",
       "      <th>pd_mis</th>\n",
       "      <td>0</td>\n",
       "      <td>0</td>\n",
       "      <td>0</td>\n",
       "      <td>1</td>\n",
       "      <td>0</td>\n",
       "    </tr>\n",
       "    <tr>\n",
       "      <th>silent</th>\n",
       "      <td>0</td>\n",
       "      <td>2</td>\n",
       "      <td>0</td>\n",
       "      <td>1</td>\n",
       "      <td>-0.0555</td>\n",
       "    </tr>\n",
       "  </tbody>\n",
       "</table>\n",
       "</div>"
      ],
      "text/plain": [
       "                    Case:53 Control:1911 Enrichment Pvalue # risk genes\n",
       "gene_of_interest:30                                                    \n",
       "protein                   6            0          0      1            6\n",
       "LGD                       2            0          0      1            2\n",
       "frameshift                1            0          0      1            1\n",
       "stop                      1            0          0      1            1\n",
       "splicing                  0            0          0      1            0\n",
       "inframe                   0            0          0      1            0\n",
       "MIS                       4            0          0      1            4\n",
       "DMIS_metaSVM              4            0          0      1            4\n",
       "LGD_dmis                  6            0          0      1            6\n",
       "pd_mis                    0            0          0      1            0\n",
       "silent                    0            2          0      1      -0.0555"
      ]
     },
     "metadata": {},
     "output_type": "display_data"
    },
    {
     "data": {
      "text/html": [
       "<div>\n",
       "<table border=\"1\" class=\"dataframe\">\n",
       "  <thead>\n",
       "    <tr style=\"text-align: right;\">\n",
       "      <th></th>\n",
       "      <th>Case:53</th>\n",
       "      <th>Control:1911</th>\n",
       "      <th>Enrichment</th>\n",
       "      <th>Pvalue</th>\n",
       "      <th># risk genes</th>\n",
       "    </tr>\n",
       "    <tr>\n",
       "      <th>pLI&gt;=0.9:3126</th>\n",
       "      <th></th>\n",
       "      <th></th>\n",
       "      <th></th>\n",
       "      <th></th>\n",
       "      <th></th>\n",
       "    </tr>\n",
       "  </thead>\n",
       "  <tbody>\n",
       "    <tr>\n",
       "      <th>protein</th>\n",
       "      <td>15</td>\n",
       "      <td>359</td>\n",
       "      <td>1.51</td>\n",
       "      <td>0.147</td>\n",
       "      <td>5.04</td>\n",
       "    </tr>\n",
       "    <tr>\n",
       "      <th>LGD</th>\n",
       "      <td>2</td>\n",
       "      <td>41</td>\n",
       "      <td>1.76</td>\n",
       "      <td>0.324</td>\n",
       "      <td>0.863</td>\n",
       "    </tr>\n",
       "    <tr>\n",
       "      <th>frameshift</th>\n",
       "      <td>1</td>\n",
       "      <td>19</td>\n",
       "      <td>1.9</td>\n",
       "      <td>0.421</td>\n",
       "      <td>0.473</td>\n",
       "    </tr>\n",
       "    <tr>\n",
       "      <th>stop</th>\n",
       "      <td>1</td>\n",
       "      <td>15</td>\n",
       "      <td>2.4</td>\n",
       "      <td>0.354</td>\n",
       "      <td>0.584</td>\n",
       "    </tr>\n",
       "    <tr>\n",
       "      <th>splicing</th>\n",
       "      <td>0</td>\n",
       "      <td>7</td>\n",
       "      <td>0</td>\n",
       "      <td>1</td>\n",
       "      <td>-0.194</td>\n",
       "    </tr>\n",
       "    <tr>\n",
       "      <th>inframe</th>\n",
       "      <td>0</td>\n",
       "      <td>10</td>\n",
       "      <td>0</td>\n",
       "      <td>1</td>\n",
       "      <td>-0.277</td>\n",
       "    </tr>\n",
       "    <tr>\n",
       "      <th>MIS</th>\n",
       "      <td>13</td>\n",
       "      <td>308</td>\n",
       "      <td>1.52</td>\n",
       "      <td>0.163</td>\n",
       "      <td>4.46</td>\n",
       "    </tr>\n",
       "    <tr>\n",
       "      <th>DMIS_metaSVM</th>\n",
       "      <td>4</td>\n",
       "      <td>65</td>\n",
       "      <td>2.22</td>\n",
       "      <td>0.116</td>\n",
       "      <td>2.2</td>\n",
       "    </tr>\n",
       "    <tr>\n",
       "      <th>LGD_dmis</th>\n",
       "      <td>6</td>\n",
       "      <td>106</td>\n",
       "      <td>2.04</td>\n",
       "      <td>0.13</td>\n",
       "      <td>3.06</td>\n",
       "    </tr>\n",
       "    <tr>\n",
       "      <th>pd_mis</th>\n",
       "      <td>4</td>\n",
       "      <td>109</td>\n",
       "      <td>1.32</td>\n",
       "      <td>0.552</td>\n",
       "      <td>0.977</td>\n",
       "    </tr>\n",
       "    <tr>\n",
       "      <th>silent</th>\n",
       "      <td>9</td>\n",
       "      <td>120</td>\n",
       "      <td>2.7</td>\n",
       "      <td>0.00857</td>\n",
       "      <td>5.67</td>\n",
       "    </tr>\n",
       "  </tbody>\n",
       "</table>\n",
       "</div>"
      ],
      "text/plain": [
       "              Case:53 Control:1911 Enrichment   Pvalue # risk genes\n",
       "pLI>=0.9:3126                                                      \n",
       "protein            15          359       1.51    0.147         5.04\n",
       "LGD                 2           41       1.76    0.324        0.863\n",
       "frameshift          1           19        1.9    0.421        0.473\n",
       "stop                1           15        2.4    0.354        0.584\n",
       "splicing            0            7          0        1       -0.194\n",
       "inframe             0           10          0        1       -0.277\n",
       "MIS                13          308       1.52    0.163         4.46\n",
       "DMIS_metaSVM        4           65       2.22    0.116          2.2\n",
       "LGD_dmis            6          106       2.04     0.13         3.06\n",
       "pd_mis              4          109       1.32    0.552        0.977\n",
       "silent              9          120        2.7  0.00857         5.67"
      ]
     },
     "metadata": {},
     "output_type": "display_data"
    },
    {
     "data": {
      "text/html": [
       "<div>\n",
       "<table border=\"1\" class=\"dataframe\">\n",
       "  <thead>\n",
       "    <tr style=\"text-align: right;\">\n",
       "      <th></th>\n",
       "      <th>Case:53</th>\n",
       "      <th>Control:1911</th>\n",
       "      <th>Enrichment</th>\n",
       "      <th>Pvalue</th>\n",
       "      <th># risk genes</th>\n",
       "    </tr>\n",
       "    <tr>\n",
       "      <th>HHE gene:4398</th>\n",
       "      <th></th>\n",
       "      <th></th>\n",
       "      <th></th>\n",
       "      <th></th>\n",
       "      <th></th>\n",
       "    </tr>\n",
       "  </thead>\n",
       "  <tbody>\n",
       "    <tr>\n",
       "      <th>protein</th>\n",
       "      <td>13</td>\n",
       "      <td>388</td>\n",
       "      <td>1.21</td>\n",
       "      <td>0.442</td>\n",
       "      <td>2.24</td>\n",
       "    </tr>\n",
       "    <tr>\n",
       "      <th>LGD</th>\n",
       "      <td>4</td>\n",
       "      <td>57</td>\n",
       "      <td>2.53</td>\n",
       "      <td>0.0826</td>\n",
       "      <td>2.42</td>\n",
       "    </tr>\n",
       "    <tr>\n",
       "      <th>frameshift</th>\n",
       "      <td>2</td>\n",
       "      <td>25</td>\n",
       "      <td>2.88</td>\n",
       "      <td>0.164</td>\n",
       "      <td>1.31</td>\n",
       "    </tr>\n",
       "    <tr>\n",
       "      <th>stop</th>\n",
       "      <td>2</td>\n",
       "      <td>21</td>\n",
       "      <td>3.43</td>\n",
       "      <td>0.127</td>\n",
       "      <td>1.42</td>\n",
       "    </tr>\n",
       "    <tr>\n",
       "      <th>splicing</th>\n",
       "      <td>0</td>\n",
       "      <td>11</td>\n",
       "      <td>0</td>\n",
       "      <td>1</td>\n",
       "      <td>-0.305</td>\n",
       "    </tr>\n",
       "    <tr>\n",
       "      <th>inframe</th>\n",
       "      <td>0</td>\n",
       "      <td>9</td>\n",
       "      <td>0</td>\n",
       "      <td>1</td>\n",
       "      <td>-0.25</td>\n",
       "    </tr>\n",
       "    <tr>\n",
       "      <th>MIS</th>\n",
       "      <td>9</td>\n",
       "      <td>322</td>\n",
       "      <td>1.01</td>\n",
       "      <td>0.866</td>\n",
       "      <td>0.0696</td>\n",
       "    </tr>\n",
       "    <tr>\n",
       "      <th>DMIS_metaSVM</th>\n",
       "      <td>3</td>\n",
       "      <td>70</td>\n",
       "      <td>1.55</td>\n",
       "      <td>0.451</td>\n",
       "      <td>1.06</td>\n",
       "    </tr>\n",
       "    <tr>\n",
       "      <th>LGD_dmis</th>\n",
       "      <td>7</td>\n",
       "      <td>127</td>\n",
       "      <td>1.99</td>\n",
       "      <td>0.0975</td>\n",
       "      <td>3.48</td>\n",
       "    </tr>\n",
       "    <tr>\n",
       "      <th>pd_mis</th>\n",
       "      <td>2</td>\n",
       "      <td>103</td>\n",
       "      <td>0.7</td>\n",
       "      <td>1</td>\n",
       "      <td>-0.857</td>\n",
       "    </tr>\n",
       "    <tr>\n",
       "      <th>silent</th>\n",
       "      <td>9</td>\n",
       "      <td>132</td>\n",
       "      <td>2.46</td>\n",
       "      <td>0.0147</td>\n",
       "      <td>5.34</td>\n",
       "    </tr>\n",
       "  </tbody>\n",
       "</table>\n",
       "</div>"
      ],
      "text/plain": [
       "              Case:53 Control:1911 Enrichment  Pvalue # risk genes\n",
       "HHE gene:4398                                                     \n",
       "protein            13          388       1.21   0.442         2.24\n",
       "LGD                 4           57       2.53  0.0826         2.42\n",
       "frameshift          2           25       2.88   0.164         1.31\n",
       "stop                2           21       3.43   0.127         1.42\n",
       "splicing            0           11          0       1       -0.305\n",
       "inframe             0            9          0       1        -0.25\n",
       "MIS                 9          322       1.01   0.866       0.0696\n",
       "DMIS_metaSVM        3           70       1.55   0.451         1.06\n",
       "LGD_dmis            7          127       1.99  0.0975         3.48\n",
       "pd_mis              2          103        0.7       1       -0.857\n",
       "silent              9          132       2.46  0.0147         5.34"
      ]
     },
     "metadata": {},
     "output_type": "display_data"
    }
   ],
   "source": [
    "dfs = [df_allgene, df_interest, df_pli, df_HHEgene]\n",
    "\n",
    "for df in dfs:\n",
    "    display(df)"
=======
   "cell_type": "code",
   "execution_count": 5,
   "metadata": {
    "collapsed": true
   },
   "outputs": [],
   "source": [
    "CSS = \"\"\"\n",
    "\n",
    "table\n",
    "{ \n",
    "float:right;\n",
    "margin:auto;\n",
    "}\n",
    "\n",
    "body {\n",
    "    margin: auto;\n",
    "    font-family: Helvetica;\n",
    "\n",
    "}\n",
    "table.dataframe {\n",
    "    margin: auto;\n",
    "    border-collapse: collapse;\n",
    "    border: none;\n",
    "    font-size:200%;\n",
    "}\n",
    "table.dataframe tr {\n",
    "    border: none;\n",
    "}\n",
    "table.dataframe td, table.dataframe th {\n",
    "    margin: auto;\n",
    "    border: 1px solid white;\n",
    "    padding-left: 0.25em;\n",
    "    padding-top: 0.25em;\n",
    "    padding-bottom: 0.25em;\n",
    "    padding-right: 0.25em;\n",
    "}\n",
    "table.dataframe th:not(:empty) {\n",
    "    background-color: #fec;\n",
    "    text-align: center;\n",
    "    font-weight: normal;\n",
    "}\n",
    "table.dataframe tr:nth-child(2) th:empty {\n",
    "    border-left: none;\n",
    "    border-right: 1px dashed #888;\n",
    "}\n",
    "table.dataframe td {\n",
    "    border: 1px solid #ccf;\n",
    "    background-color: #f4f4ff;\n",
    "}\n",
    "div.output_area pre {\n",
    "font-family: Helvetica;\n",
    "font-size: 100%;\n",
    "}\n",
    "\"\"\"\n",
    "#CSS ='<center>{0}</center>'.format(CSS)"
>>>>>>> origin/master
   ]
  },
  {
   "cell_type": "code",
<<<<<<< HEAD
   "execution_count": 5,
=======
   "execution_count": 6,
>>>>>>> origin/master
   "metadata": {
    "collapsed": false
   },
   "outputs": [
    {
     "data": {
      "text/html": [
       "<style>\n",
       "\n",
<<<<<<< HEAD
       "body {\n",
       "    margin: 0;\n",
=======
       "table\n",
       "{ \n",
       "float:right;\n",
       "margin:auto;\n",
       "}\n",
       "\n",
       "body {\n",
       "    margin: auto;\n",
>>>>>>> origin/master
       "    font-family: Helvetica;\n",
       "\n",
       "}\n",
       "table.dataframe {\n",
<<<<<<< HEAD
       "    border-collapse: collapse;\n",
       "    border: none;\n",
       "    font-size:18px;\n",
=======
       "    margin: auto;\n",
       "    border-collapse: collapse;\n",
       "    border: none;\n",
       "    font-size:200%;\n",
>>>>>>> origin/master
       "}\n",
       "table.dataframe tr {\n",
       "    border: none;\n",
       "}\n",
       "table.dataframe td, table.dataframe th {\n",
<<<<<<< HEAD
       "    margin: 0;\n",
=======
       "    margin: auto;\n",
>>>>>>> origin/master
       "    border: 1px solid white;\n",
       "    padding-left: 0.25em;\n",
       "    padding-top: 0.25em;\n",
       "    padding-bottom: 0.25em;\n",
       "    padding-right: 0.25em;\n",
       "}\n",
       "table.dataframe th:not(:empty) {\n",
       "    background-color: #fec;\n",
       "    text-align: center;\n",
       "    font-weight: normal;\n",
<<<<<<< HEAD
       "    \n",
       "}\n",
       "\n",
=======
       "}\n",
>>>>>>> origin/master
       "table.dataframe tr:nth-child(2) th:empty {\n",
       "    border-left: none;\n",
       "    border-right: 1px dashed #888;\n",
       "}\n",
       "table.dataframe td {\n",
<<<<<<< HEAD
       "    border: 2px solid #ccf;\n",
       "    background-color: #f4f4ff;\n",
       "    text-align: center;\n",
       "    min-width: 40px;\n",
=======
       "    border: 1px solid #ccf;\n",
       "    background-color: #f4f4ff;\n",
>>>>>>> origin/master
       "}\n",
       "div.output_area pre {\n",
       "font-family: Helvetica;\n",
       "font-size: 100%;\n",
       "}\n",
       "</style>"
      ],
      "text/plain": [
       "<IPython.core.display.HTML object>"
      ]
     },
<<<<<<< HEAD
     "execution_count": 5,
=======
     "execution_count": 6,
>>>>>>> origin/master
     "metadata": {},
     "output_type": "execute_result"
    }
   ],
   "source": [
<<<<<<< HEAD
    "CSS = \"\"\"\n",
    "\n",
    "body {\n",
    "    margin: 0;\n",
    "    font-family: Helvetica;\n",
    "\n",
    "}\n",
    "table.dataframe {\n",
    "    border-collapse: collapse;\n",
    "    border: none;\n",
    "    font-size:18px;\n",
    "}\n",
    "table.dataframe tr {\n",
    "    border: none;\n",
    "}\n",
    "table.dataframe td, table.dataframe th {\n",
    "    margin: 0;\n",
    "    border: 1px solid white;\n",
    "    padding-left: 0.25em;\n",
    "    padding-top: 0.25em;\n",
    "    padding-bottom: 0.25em;\n",
    "    padding-right: 0.25em;\n",
    "}\n",
    "table.dataframe th:not(:empty) {\n",
    "    background-color: #fec;\n",
    "    text-align: center;\n",
    "    font-weight: normal;\n",
    "    \n",
    "}\n",
    "\n",
    "table.dataframe tr:nth-child(2) th:empty {\n",
    "    border-left: none;\n",
    "    border-right: 1px dashed #888;\n",
    "}\n",
    "table.dataframe td {\n",
    "    border: 2px solid #ccf;\n",
    "    background-color: #f4f4ff;\n",
    "    text-align: center;\n",
    "    min-width: 40px;\n",
    "}\n",
    "div.output_area pre {\n",
    "font-family: Helvetica;\n",
    "font-size: 100%;\n",
    "}\n",
    "\"\"\"\n",
    "# <col width=400> min-width: 40px;\n",
=======
>>>>>>> origin/master
    "from IPython.core.display import HTML\n",
    "HTML('<style>{}</style>'.format(CSS))"
   ]
  },
  {
   "cell_type": "code",
   "execution_count": null,
   "metadata": {
<<<<<<< HEAD
    "collapsed": true
   },
   "outputs": [],
   "source": []
  }
 ],
 "metadata": {
  "celltoolbar": "Slideshow",
=======
    "collapsed": false
   },
   "outputs": [],
   "source": []
  },
  {
   "cell_type": "code",
   "execution_count": 7,
   "metadata": {
    "collapsed": false
   },
   "outputs": [
    {
     "name": "stdout",
     "output_type": "stream",
     "text": [
      "             gggggg\n"
     ]
    },
    {
     "data": {
      "text/html": [
       "<div>\n",
       "<table border=\"1\" class=\"dataframe\">\n",
       "  <thead>\n",
       "    <tr style=\"text-align: right;\">\n",
       "      <th></th>\n",
       "      <th>lib</th>\n",
       "      <th>qty1</th>\n",
       "      <th>qty2</th>\n",
       "    </tr>\n",
       "  </thead>\n",
       "  <tbody>\n",
       "    <tr>\n",
       "      <th>aaa</th>\n",
       "      <td>1.00</td>\n",
       "      <td>2.00</td>\n",
       "      <td>3.00</td>\n",
       "    </tr>\n",
       "    <tr>\n",
       "      <th>bbb</th>\n",
       "      <td>0.10</td>\n",
       "      <td>0.00</td>\n",
       "      <td>0.00</td>\n",
       "    </tr>\n",
       "  </tbody>\n",
       "</table>\n",
       "</div>"
      ],
      "text/plain": [
       "     lib  qty1  qty2\n",
       "aaa 1.00  2.00  3.00\n",
       "bbb 0.10  0.00  0.00"
      ]
     },
     "metadata": {},
     "output_type": "display_data"
    }
   ],
   "source": [
    "pd.set_option('display.width', 250)\n",
    "pd.set_option('display.precision', 3)\n",
    "df = pd.DataFrame(np.array([[1,2,3],[0.1,0.001,0.00001]]), index=('aaa','bbb'),columns=('lib', 'qty1', 'qty2'))\n",
    "print '             gggggg'\n",
    "display(df)\n"
   ]
  },
  {
   "cell_type": "code",
   "execution_count": 10,
   "metadata": {
    "collapsed": false
   },
   "outputs": [
    {
     "data": {
      "text/html": [
       "<center><table style=\"color: black;border: 1px solid black;\"><tr style=\"color: black;border: 1px solid black;\"><td style=\"color: black;font-weight: bold;background-color: lightgray;\">lib</td><td style=\"color: black;font-weight: bold;background-color: lightgray;\">qty1</td><td style=\"color: black;font-weight: bold;background-color: lightgray;\">qty2</td></tr><tr style=\"color: black;border: 1px solid black;\"><td style=\"color: black;border: 1px solid black;\">1.0</td><td style=\"color: black;border: 1px solid black;\">2.0</td><td style=\"color: black;border: 1px solid black;\">3.0</td></tr><tr style=\"color: black;border: 1px solid black;\"><td style=\"color: black;border: 1px solid black;\">0.1</td><td style=\"color: black;border: 1px solid black;\">0.001</td><td style=\"color: black;border: 1px solid black;\">1e-05</td></tr></table></center>"
      ],
      "text/plain": [
       "<pretty_table.PrettyTable at 0x11180d990>"
      ]
     },
     "execution_count": 10,
     "metadata": {},
     "output_type": "execute_result"
    }
   ],
   "source": [
    "pt = PrettyTable(df, tstyle=TableStyle(theme=\"theme1\"), center=True)\n",
    "pt"
   ]
  }
 ],
 "metadata": {
>>>>>>> origin/master
  "hide_input": false,
  "kernelspec": {
   "display_name": "Python 2",
   "language": "python",
   "name": "python2"
  },
  "language_info": {
   "codemirror_mode": {
    "name": "ipython",
    "version": 2
   },
   "file_extension": ".py",
   "mimetype": "text/x-python",
   "name": "python",
   "nbconvert_exporter": "python",
   "pygments_lexer": "ipython2",
   "version": "2.7.11"
  },
  "toc": {
   "toc_cell": true,
   "toc_number_sections": false,
<<<<<<< HEAD
   "toc_section_display": "none",
   "toc_threshold": 6,
   "toc_window_display": true
  },
  "toc_position": {
   "height": "72px",
   "left": "-1.98438px",
   "right": "20px",
   "top": "114px",
   "width": "162px"
=======
   "toc_threshold": 6,
   "toc_window_display": true
>>>>>>> origin/master
  }
 },
 "nbformat": 4,
 "nbformat_minor": 0
}
