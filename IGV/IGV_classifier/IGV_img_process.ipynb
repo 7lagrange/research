{
 "cells": [
  {
   "cell_type": "code",
   "execution_count": 1,
   "metadata": {
    "collapsed": false
   },
   "outputs": [
    {
     "name": "stderr",
     "output_type": "stream",
     "text": [
      "Using Theano backend.\n"
     ]
    }
   ],
   "source": [
    "from PIL import Image\n",
    "import numpy as np\n",
    "import os\n",
    "import re\n",
    "from utils import process_one_image"
   ]
  },
  {
   "cell_type": "code",
   "execution_count": 2,
   "metadata": {
    "collapsed": false,
    "scrolled": true
   },
   "outputs": [],
   "source": [
    "def load_data(folder, n_block, image_width, image_height, color_channel = 3):\n",
    "    '''\n",
    "    Load the data from folder.\n",
    "    \n",
    "    Parameters\n",
    "    ----------\n",
    "    :type folder: str \n",
    "    :param folder: image folder address\n",
    "\n",
    "    :type n_block: int\n",
    "    :param n_block: the blocks to keep around base pair of interest\n",
    "    \n",
    "    :type image_width: int\n",
    "    :param image_width: new image width\n",
    " \n",
    "    :type image_height: int\n",
    "    :param image_height: new image height\n",
    "\n",
    "    returns\n",
    "    ----------\n",
    "    :type dataset: np.uint8\n",
    "        image after process, ndarray of dimension: (# of images, channel , width, height)\n",
    "    '''\n",
    "    image_files = os.listdir(folder)\n",
    "    dataset = np.ndarray(shape=(len(image_files), color_channel, image_width, image_height),\n",
    "                         dtype=np.uint8)  \n",
    "    image_index = 0\n",
    "    for image in image_files:\n",
    "        image_file = os.path.join(folder, image)\n",
    "        img = process_one_image(image_file, n_block, image_width, image_height)\n",
    "        if image_index % 500 == 0:\n",
    "            print image_index, image\n",
    "            img.show()\n",
    "        image_data = np.array(img).transpose((2, 0, 1))\n",
    "        dataset[image_index, :, :, :] = image_data\n",
    "        image_index += 1\n",
    "    return dataset\n",
    "\n",
    "\n",
    "def maybe_npy(data_folders, n_block, image_width, image_height, force=False):\n",
    "    '''\n",
    "    save the data to npy.\n",
    "    \n",
    "    Parameters\n",
    "    ----------\n",
    "    :type data_folders: list \n",
    "    :param data_folders: list of folders of images\n",
    "\n",
    "    :type n_block: int\n",
    "    :param n_block: the blocks to keep around base pair of interest\n",
    "    \n",
    "    :type image_width: int\n",
    "    :param image_width: new image width\n",
    " \n",
    "    :type image_height: int\n",
    "    :param image_height: new image height\n",
    "    \n",
    "    :type force: boolean\n",
    "    :param force: whether overwrite\n",
    "    \n",
    "\n",
    "    returns\n",
    "    ----------\n",
    "    :type dataset_names: list\n",
    "        saved file name\n",
    "    '''\n",
    "        \n",
    "    dataset_names = []\n",
    "    for folder in data_folders:\n",
    "        set_filename = folder + '.npy'\n",
    "        dataset_names.append(set_filename)\n",
    "        if os.path.exists(set_filename) and not force:\n",
    "            # You may override by setting force=True.\n",
    "            print('%s already present - Skipping npying.' % set_filename)\n",
    "        else:\n",
    "            print('npying %s.' % set_filename)\n",
    "            dataset = load_data(folder, n_block, image_width, image_height)\n",
    "            try:\n",
    "                np.save(set_filename, dataset)\n",
    "            except Exception as e:\n",
    "                print('Unable to save data to', set_filename, ':', e)\n",
    "    return dataset_names"
   ]
  },
  {
   "cell_type": "code",
   "execution_count": 22,
   "metadata": {
    "collapsed": false
   },
   "outputs": [
    {
     "name": "stdout",
     "output_type": "stream",
     "text": [
      "npying data/fail.npy.\n",
      "0 1-00738.bam,1-00738-01.bam,1-00738-02.bam,1.112914859.112914899.png\n",
      "500 1-02452.bam,1-02452-01.bam,1-02452-02.bam,1.3129216.3129256.png\n",
      "1000 1-04050.bam,1-04050-01.bam,1-04050-02.bam,21.9972034.9972074.png\n",
      "1500 1-05517.bam,1-05517-01.bam,1-05517-02.bam,9.140843566.140843606.png\n",
      "2000 1-06425.bam,1-06425-01.bam,1-06425-02.bam,8.43761484.43761524.png\n",
      "2500 1-06635.bam,1-06635-01.bam,1-06635-02.bam,17.36308168.36308208.png\n",
      "3000 1-07417.bam,1-07417-01.bam,1-07417-02.bam,20.24642017.24642057.png\n",
      "npying data/snp.npy.\n",
      "0 1-00738.bam,1-00738-01.bam,1-00738-02.bam,1.18591822.18591862.png\n",
      "500 1-03805.bam,1-03805-01.bam,1-03805-02.bam,16.21053637.21053677.png\n",
      "1000 1-05538.bam,1-05538-01.bam,1-05538-02.bam,7.120265517.120265557.png\n",
      "1500 1-06577.bam,1-06577-01.bam,1-06577-02.bam,11.27743113.27743153.png\n",
      "2000 CDH889_GAAACC_BC41TKACXX_L006_001.R1.bwamem.mkdup.bam,CDH890_AAAGCA_BC41TKACXX_L006_001.R1.bwamem.mkdup.bam,CDH891_ATCACG_BC41TKACXX_L006_001.R1.bwamem.mkdup.bam,7.99023086.99023126.png\n",
      "2500 Sample_13882_2e_s1.bam.mdup.bam,Sample_13882_2e_fa.bam.mdup.bam,Sample_13882_2e_mo.bam.mdup.bam,16.53967963.53968003.png\n",
      "npying data/insertion.npy.\n",
      "0 01-0446_Illumina.bam,444_Illumina.bam,445_Illumina.bam.14.21797193.png\n",
      "npying data/deletion.npy.\n",
      "0 01-0113.151613.mkdup.bam,111.151611.mkdup.bam,112.151612.mkdup.bam.20.39831908.png\n",
      "500 CG0008-9394_Illumina.bam,CG0008-9409_Illumina.bam,CG0008-9417_Illumina.bam.19.44807106.png\n",
      "1000 Sample.1-02814.bam,Sample.1-02814-01.bam,Sample.1-02814-02.bam,2.238626411.238626451.png\n",
      "1500 SRR3659440.bam,SRR3659791.bam,SRR3659792.bam.5.72371637.png\n",
      "npying data/complex.npy.\n",
      "0 1-00738.bam,1-00738-01.bam,1-00738-02.bam,11.94107232.94107272.png\n",
      "npying data/uncertain.npy.\n",
      "0 COL-CHUNG_FPPH133-01_PAH_0165706180.realign.bam,COL-CHUNG_FPPH133-03_PAH_0165706253.realign.bam,COL-CHUNG_FPPH133-02_PAH_0165706266.realign.bam,20.62326555.62326595.png\n"
     ]
    }
   ],
   "source": [
    "n_block = 2\n",
    "image_width, image_height  = 128, 128\n",
    "color_channel = 3\n",
    "data_folders = ['data/fail', 'data/snp', 'data/insertion', \n",
    "                'data/deletion','data/complex','data/uncertain']\n",
    "\n",
    "dataset = maybe_npy(data_folders, n_block, image_width, image_height, True)"
   ]
  },
  {
   "cell_type": "code",
   "execution_count": 23,
   "metadata": {
    "collapsed": false
   },
   "outputs": [
    {
     "name": "stdout",
     "output_type": "stream",
     "text": [
      "8523\n",
      "['data/fail.npy', 'data/snp.npy', 'data/insertion.npy', 'data/deletion.npy', 'data/complex.npy', 'data/uncertain.npy']\n"
     ]
    }
   ],
   "source": [
    "all_image_names = []\n",
    "for folder in data_folders:\n",
    "    image_files = os.listdir(folder)\n",
    "    all_image_names.extend(image_files)\n",
    "all_image_names = np.array(all_image_names)\n",
    "print len(all_image_names)\n",
    "print dataset"
   ]
  },
  {
   "cell_type": "code",
   "execution_count": 24,
   "metadata": {
    "collapsed": false
   },
   "outputs": [
    {
     "name": "stdout",
     "output_type": "stream",
     "text": [
      "data/fail.npy\n",
      "data/snp.npy\n",
      "data/insertion.npy\n",
      "data/deletion.npy\n",
      "data/complex.npy\n",
      "data/uncertain.npy\n",
      "(8523, ' samples')\n",
      "(8523, 3, 128, 128)\n",
      "(8523,)\n"
     ]
    }
   ],
   "source": [
    "name_to_label = {'fail.npy': 0, 'snp.npy':1, 'insertion.npy':2,'deletion.npy':3,\n",
    "                 'complex.npy':4,'uncertain.npy':5, }\n",
    "\n",
    "label_to_name = {0:'fail', 1:'snp', 2:'insertion', 3:'deletion', 4:'complex', 5:'uncertain'}\n",
    "\n",
    "total_n = len(all_image_names)\n",
    "train = np.ndarray(shape=(total_n, color_channel, image_width, image_height),\n",
    "                         dtype=np.uint8)\n",
    "label = np.ndarray((total_n,),dtype=\"uint8\")\n",
    "\n",
    "# combine npy \n",
    "start = 0\n",
    "for data_name in dataset:\n",
    "    print data_name\n",
    "    data = np.load(data_name)\n",
    "    data = np.array(data, dtype=np.uint8)\n",
    "    end = data.shape[0]\n",
    "    data_label = np.repeat(name_to_label[data_name.split('/')[-1]], end)\n",
    "    train[start:start+end,:,:,:] = data\n",
    "    label[start:start+end] = data_label\n",
    "    start += end\n",
    "\n",
    "# shuffle \n",
    "index = [i for i in range(total_n)]\n",
    "np.random.shuffle(index)\n",
    "train = train[index]\n",
    "label = label[index]\n",
    "all_image_names = all_image_names[index]\n",
    "print(train.shape[0], ' samples')\n",
    "print train.shape\n",
    "print label.shape\n",
    "np.save('train.npy', train)\n",
    "np.save('label.npy', label)\n",
    "np.save('name.npy', all_image_names)"
   ]
  },
  {
   "cell_type": "code",
   "execution_count": 27,
   "metadata": {
    "collapsed": false
   },
   "outputs": [
    {
     "name": "stdout",
     "output_type": "stream",
     "text": [
      "deletion\n",
      "SRR3879643.bam,SRR3879714.bam,SRR3879700.bam.11.8711648.png\n"
     ]
    }
   ],
   "source": [
    "X = train\n",
    "X = X.transpose((0, 2, 3, 1))\n",
    "index = 7\n",
    "img = Image.fromarray(X[index],'RGB')\n",
    "img.show()\n",
    "print label_to_name[label[index]]\n",
    "print all_image_names[index]"
   ]
  },
  {
   "cell_type": "code",
   "execution_count": 21,
   "metadata": {
    "collapsed": false
   },
   "outputs": [
    {
     "data": {
      "text/plain": [
       "array([  0,   0, 156, ...,   0,   0,   0], dtype=uint8)"
      ]
     },
     "execution_count": 21,
     "metadata": {},
     "output_type": "execute_result"
    }
   ],
   "source": [
    "label"
   ]
  },
  {
   "cell_type": "code",
   "execution_count": null,
   "metadata": {
    "collapsed": true
   },
   "outputs": [],
   "source": []
  }
 ],
 "metadata": {
  "hide_input": false,
  "kernelspec": {
   "display_name": "Python 2",
   "language": "python",
   "name": "python2"
  },
  "language_info": {
   "codemirror_mode": {
    "name": "ipython",
    "version": 2
   },
   "file_extension": ".py",
   "mimetype": "text/x-python",
   "name": "python",
   "nbconvert_exporter": "python",
   "pygments_lexer": "ipython2",
   "version": "2.7.12"
  },
  "toc": {
   "toc_cell": false,
   "toc_number_sections": true,
   "toc_threshold": 6,
   "toc_window_display": false
  }
 },
 "nbformat": 4,
 "nbformat_minor": 0
}
