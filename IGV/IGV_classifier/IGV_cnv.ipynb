{
 "cells": [
  {
   "cell_type": "code",
   "execution_count": 1,
   "metadata": {
    "collapsed": false
   },
   "outputs": [
    {
     "name": "stderr",
     "output_type": "stream",
     "text": [
      "Using Theano backend.\n",
      "/Users/hongjian/anaconda/lib/python2.7/site-packages/theano/tensor/signal/downsample.py:6: UserWarning: downsample module has been moved to the theano.tensor.signal.pool module.\n",
      "  \"downsample module has been moved to the theano.tensor.signal.pool module.\")\n",
      "/Users/hongjian/anaconda/lib/python2.7/site-packages/matplotlib/font_manager.py:273: UserWarning: Matplotlib is building the font cache using fc-list. This may take a moment.\n",
      "  warnings.warn('Matplotlib is building the font cache using fc-list. This may take a moment.')\n"
     ]
    }
   ],
   "source": [
    "import numpy as np\n",
    "import os\n",
    "import sys\n",
    "import shutil\n",
    "from keras.utils import np_utils, generic_utils\n",
    "from utils import load_data, get_minst_model"
   ]
  },
  {
   "cell_type": "code",
   "execution_count": 2,
   "metadata": {
    "collapsed": true
   },
   "outputs": [],
   "source": [
    "def load_train_data():\n",
    "    \"\"\"\n",
    "    Load training data from .npy files.\n",
    "    \n",
    "    # normalization, not sure whether will work\n",
    "    scale = np.max(data)\n",
    "    data /= scale\n",
    "    mean = np.std(data)\n",
    "    data -= mean\n",
    "    \"\"\"\n",
    "    X = np.load('train.npy')\n",
    "    y = np.load('label.npy')\n",
    "\n",
    "    X = X.astype(np.float32)\n",
    "    X /= 255\n",
    "    \n",
    "    \n",
    "    return X, y\n",
    "\n",
    "def train():\n",
    "    \"\"\"\n",
    "    Training using minst models.\n",
    "    \"\"\"\n",
    "    \n",
    "    nb_classes = 6 \n",
    "    min_val_loss = sys.float_info.max\n",
    "    nb_iter = 200\n",
    "    epochs_per_iter = 2\n",
    "    batch_size = 64\n",
    "    best_accuracy = 0.0\n",
    "    \n",
    "    print('Loading and compiling models...')\n",
    "    conv_model = get_minst_model('weights_conv_best.hdf5')\n",
    "\n",
    "    print('Loading training data...')\n",
    "    X_train, y_train = load_train_data()\n",
    "    y_train = np_utils.to_categorical(y_train, nb_classes) \n",
    "    \n",
    "    print('-'*50)\n",
    "    print('Training...')\n",
    "    print('-'*50)\n",
    "\n",
    "    for i in range(nb_iter):\n",
    "        print('-'*50)\n",
    "        print('Iteration {0}/{1}'.format(i + 1, nb_iter))\n",
    "        print('-'*50)\n",
    "\n",
    "        print('Fitting  model...')\n",
    "        hist_conv = conv_model.fit(X_train, y_train,shuffle = True, validation_split=0.2, \n",
    "                  nb_epoch=epochs_per_iter,batch_size=batch_size, \n",
    "                  verbose=1,show_accuracy=True)\n",
    "        loss = hist_conv.history['loss'][-1]\n",
    "        val_loss = hist_conv.history['val_loss'][-1]\n",
    "        \n",
    "        if val_loss < min_val_loss:\n",
    "            min_val_loss = val_loss\n",
    "            conv_model.save_weights('weights_conv_best.hdf5', overwrite=True)"
   ]
  },
  {
   "cell_type": "code",
   "execution_count": null,
   "metadata": {
    "collapsed": false
   },
   "outputs": [
    {
     "name": "stdout",
     "output_type": "stream",
     "text": [
      "Loading and compiling models...\n",
      "Loading training data...\n",
      "--------------------------------------------------"
     ]
    }
   ],
   "source": [
    "train()"
   ]
  },
  {
   "cell_type": "code",
   "execution_count": null,
   "metadata": {
    "collapsed": false
   },
   "outputs": [],
   "source": [
    "loss, accuracy = model.evaluate(train_dataset, train_labels, show_accuracy=True, verbose=1)\n",
    "print('loss: ', loss)\n",
    "print('accuracy: ', accuracy)"
   ]
  },
  {
   "cell_type": "code",
   "execution_count": null,
   "metadata": {
    "collapsed": false
   },
   "outputs": [],
   "source": [
    "model.predict_classes(test_data, batch_size=128, verbose=1)"
   ]
  },
  {
   "cell_type": "code",
   "execution_count": null,
   "metadata": {
    "collapsed": true
   },
   "outputs": [],
   "source": [
    "def get_toy_model():\n",
    "    model = Sequential()\n",
    "\n",
    "\n",
    "    model.add(Convolution2D(4, 5, 5, border_mode='valid',input_shape=( 3, 128, 128))) \n",
    "    model.add(Activation('tanh'))\n",
    "\n",
    "\n",
    "    model.add(Convolution2D(8, 3, 3, border_mode='valid'))\n",
    "    model.add(Activation('tanh'))\n",
    "    model.add(MaxPooling2D(pool_size=(2, 2)))\n",
    "    model.add(Dropout(0.5))\n",
    "    \n",
    "    model.add(Convolution2D(16, 3, 3, border_mode='valid')) \n",
    "    model.add(Activation('tanh'))\n",
    "    model.add(MaxPooling2D(pool_size=(2, 2)))\n",
    "    model.add(Dropout(0.5))\n",
    "    \n",
    "    model.add(Convolution2D(32, 3, 3, border_mode='valid')) \n",
    "    model.add(Activation('tanh'))\n",
    "    model.add(MaxPooling2D(pool_size=(2, 2)))\n",
    "    model.add(Dropout(0.5))\n",
    "    \n",
    "    model.add(Flatten())\n",
    "    model.add(Dense(1024, init='normal'))\n",
    "    model.add(Activation('tanh'))\n",
    "    \n",
    "\n",
    "    model.add(Dense(2, init='normal'))\n",
    "    model.add(Activation('softmax'))\n",
    "\n",
    "\n",
    "    sgd = SGD(l2=0.0,lr=0.05, decay=1e-6, momentum=0.9, nesterov=True)\n",
    "    model.compile(loss='categorical_crossentropy', optimizer='Adam',class_mode=\"categorical\")\n",
    "    return model\n",
    "def center_normalize(x):\n",
    "    \"\"\"\n",
    "    Custom activation for online sample-wise center and std. normalization\n",
    "    \"\"\"\n",
    "    return (x - K.mean(x)) / K.std(x)\n",
    "\n",
    "\n",
    "def get_model():\n",
    "    model = Sequential()\n",
    "    model.add(Activation(activation=center_normalize, input_shape=(3, 128, 128)))\n",
    "\n",
    "    model.add(Convolution2D(64, 3, 3, border_mode='same'))\n",
    "    model.add(Activation('relu'))\n",
    "    model.add(Convolution2D(64, 3, 3, border_mode='valid'))\n",
    "    model.add(Activation('relu'))\n",
    "    model.add(ZeroPadding2D(padding=(1, 1)))\n",
    "    model.add(MaxPooling2D(pool_size=(2, 2), strides=(2, 2)))\n",
    "    model.add(Dropout(0.25))\n",
    "\n",
    "    model.add(Convolution2D(96, 3, 3, border_mode='same'))\n",
    "    model.add(Activation('relu'))\n",
    "    model.add(Convolution2D(96, 3, 3, border_mode='valid'))\n",
    "    model.add(Activation('relu'))\n",
    "    model.add(ZeroPadding2D(padding=(1, 1)))\n",
    "    model.add(MaxPooling2D(pool_size=(2, 2), strides=(2, 2)))\n",
    "    model.add(Dropout(0.25))\n",
    "\n",
    "    model.add(Convolution2D(128, 2, 2, border_mode='same'))\n",
    "    model.add(Activation('relu'))\n",
    "    model.add(Convolution2D(128, 2, 2, border_mode='same'))\n",
    "    model.add(Activation('relu'))\n",
    "    model.add(MaxPooling2D(pool_size=(2, 2), strides=(2, 2)))\n",
    "    model.add(Dropout(0.25))\n",
    "\n",
    "    model.add(Flatten())\n",
    "    model.add(Dense(1024, W_regularizer=l2(1e-3)))\n",
    "    model.add(Activation('relu'))\n",
    "    model.add(Dropout(0.5))\n",
    "    model.add(Dense(2))\n",
    "\n",
    "    sgd = SGD(l2=0.0,lr=0.05, decay=1e-6, momentum=0.9, nesterov=True)\n",
    "    model.compile(loss='categorical_crossentropy', optimizer='adadelta',class_mode=\"categorical\")\n",
    "    return model"
   ]
  }
 ],
 "metadata": {
  "hide_input": false,
  "kernelspec": {
   "display_name": "Python 2",
   "language": "python",
   "name": "python2"
  },
  "language_info": {
   "codemirror_mode": {
    "name": "ipython",
    "version": 2
   },
   "file_extension": ".py",
   "mimetype": "text/x-python",
   "name": "python",
   "nbconvert_exporter": "python",
   "pygments_lexer": "ipython2",
   "version": "2.7.11"
  },
  "toc": {
   "toc_cell": false,
   "toc_number_sections": true,
   "toc_threshold": 6,
   "toc_window_display": false
  }
 },
 "nbformat": 4,
 "nbformat_minor": 0
}
